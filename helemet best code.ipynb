{
 "cells": [
  {
   "cell_type": "code",
   "execution_count": 1,
   "id": "02d63140-8c80-4566-b368-ed5ce5a879ed",
   "metadata": {},
   "outputs": [
    {
     "name": "stdout",
     "output_type": "stream",
     "text": [
      "PPE DETECTION USING MACHINE LEARNING\n",
      "Select the option\n",
      "1.video\n",
      "2.webcam\n",
      "3.External cam\n"
     ]
    },
    {
     "name": "stdin",
     "output_type": "stream",
     "text": [
      " 2\n"
     ]
    }
   ],
   "source": [
    " print(\"PPE DETECTION USING MACHINE LEARNING\")\n",
    "print(\"Select the option\")\n",
    "print(\"1.video\")\n",
    "print(\"2.webcam\")\n",
    "print(\"3.External cam\")\n",
    "n=int(input())\n"
   ]
  },
  {
   "cell_type": "code",
   "execution_count": 2,
   "id": "583afbc0-d9b5-4716-9d92-604cc0be5b13",
   "metadata": {},
   "outputs": [
    {
     "name": "stdout",
     "output_type": "stream",
     "text": [
      "WARNING:tensorflow:From D:\\python39\\lib\\site-packages\\keras\\src\\losses.py:2976: The name tf.losses.sparse_softmax_cross_entropy is deprecated. Please use tf.compat.v1.losses.sparse_softmax_cross_entropy instead.\n",
      "\n"
     ]
    }
   ],
   "source": [
    "from ultralytics import YOLO\n",
    "import cv2\n",
    "import cvzone\n",
    "import math\n",
    "import tensorflow as tf\n",
    "from tensorflow.keras.models import load_model"
   ]
  },
  {
   "cell_type": "markdown",
   "id": "b8b14ef1-e1e6-4de8-9d4f-54a707204eb4",
   "metadata": {},
   "source": [
    "![]('Untitled.jpg')"
   ]
  },
  {
   "cell_type": "code",
   "execution_count": 3,
   "id": "791d35d9-a54b-4968-a6eb-0f654e879f45",
   "metadata": {},
   "outputs": [
    {
     "name": "stdout",
     "output_type": "stream",
     "text": [
      "<ultralytics.yolo.engine.model.YOLO object at 0x000001F176C786D0>\n"
     ]
    }
   ],
   "source": [
    "\n",
    "if(n==2):\n",
    "    from ultralytics import YOLO\n",
    "    import cv2\n",
    "    import cvzone\n",
    "    import math\n",
    "\n",
    "    cap = cv2.VideoCapture(0) \n",
    "    cv2.namedWindow(\"Window\")  \n",
    "    cap.set(3, 1280)  # cam\n",
    "    cap.set(4, 720)  # cam\n",
    "    model = YOLO(\"ppe.pt\")  # train model\n",
    "    print(model)\n",
    "    classNames = ['Hardhat', 'Mask', 'NO-Hardhat', 'NO-Mask', 'NO-Safety Vest', 'Person', 'Safety Cone',\n",
    "                  'Safety Vest', 'machinery', 'vehicle']\n",
    "    myColor = (0, 0, 255)\n",
    "\n",
    "\n",
    "    "
   ]
  },
  {
   "cell_type": "markdown",
   "id": "e2f58697-34ae-4e61-80d2-4bdf695d3911",
   "metadata": {},
   "source": [
    "def update_matplotlib_graph():\n",
    "    ax.clear()\n",
    "    ax.plot(confidence_history, label='Confidence History')\n",
    "    ax.set_xlabel('Frame Index')\n",
    "    ax.set_ylabel('Confidence Score')\n",
    "    ax.legend()\n",
    "    plt.pause(0.01)\n",
    "\n"
   ]
  },
  {
   "cell_type": "code",
   "execution_count": null,
   "id": "222a6c06-680a-45e7-b521-7bc274f8e196",
   "metadata": {},
   "outputs": [
    {
     "name": "stderr",
     "output_type": "stream",
     "text": [
      "Ultralytics YOLOv8.0.26  Python-3.9.7 torch-2.1.2+cpu CPU\n",
      "Model summary (fused): 268 layers, 43614318 parameters, 0 gradients, 164.9 GFLOPs\n",
      "\n",
      "0: 384x640 826.2ms\n",
      "Speed: 5.0ms pre-process, 826.2ms inference, 23.3ms postprocess per image at shape (1, 3, 640, 640)\n",
      "\n",
      "0: 384x640 1 NO-Hardhat, 1 NO-Mask, 1 NO-Safety Vest, 1 Person, 723.6ms\n",
      "Speed: 0.0ms pre-process, 723.6ms inference, 17.5ms postprocess per image at shape (1, 3, 640, 640)\n",
      "\n",
      "0: 384x640 1 NO-Hardhat, 1 NO-Mask, 1 NO-Safety Vest, 1 Person, 894.9ms\n",
      "Speed: 1.0ms pre-process, 894.9ms inference, 2.0ms postprocess per image at shape (1, 3, 640, 640)\n",
      "\n",
      "0: 384x640 2 NO-Masks, 1 NO-Safety Vest, 1 Person, 659.2ms\n",
      "Speed: 0.0ms pre-process, 659.2ms inference, 1.0ms postprocess per image at shape (1, 3, 640, 640)\n",
      "\n",
      "0: 384x640 1 NO-Hardhat, 1 NO-Mask, 1 NO-Safety Vest, 1 Person, 561.9ms\n",
      "Speed: 0.0ms pre-process, 561.9ms inference, 1.0ms postprocess per image at shape (1, 3, 640, 640)\n",
      "\n",
      "0: 384x640 1 NO-Hardhat, 1 NO-Mask, 1 NO-Safety Vest, 1 Person, 539.6ms\n",
      "Speed: 1.0ms pre-process, 539.6ms inference, 1.0ms postprocess per image at shape (1, 3, 640, 640)\n",
      "\n",
      "0: 384x640 1 NO-Hardhat, 1 NO-Mask, 1 NO-Safety Vest, 1 Person, 539.8ms\n",
      "Speed: 0.0ms pre-process, 539.8ms inference, 1.0ms postprocess per image at shape (1, 3, 640, 640)\n",
      "\n",
      "0: 384x640 1 NO-Hardhat, 1 NO-Mask, 1 NO-Safety Vest, 1 Person, 535.3ms\n",
      "Speed: 1.0ms pre-process, 535.3ms inference, 1.0ms postprocess per image at shape (1, 3, 640, 640)\n",
      "\n",
      "0: 384x640 1 NO-Hardhat, 1 NO-Mask, 1 NO-Safety Vest, 1 Person, 535.9ms\n",
      "Speed: 0.0ms pre-process, 535.9ms inference, 1.0ms postprocess per image at shape (1, 3, 640, 640)\n",
      "\n",
      "0: 384x640 1 NO-Hardhat, 1 NO-Mask, 1 NO-Safety Vest, 1 Person, 533.9ms\n",
      "Speed: 1.0ms pre-process, 533.9ms inference, 1.0ms postprocess per image at shape (1, 3, 640, 640)\n",
      "\n",
      "0: 384x640 1 NO-Hardhat, 1 NO-Mask, 1 NO-Safety Vest, 1 Person, 536.3ms\n",
      "Speed: 0.0ms pre-process, 536.3ms inference, 1.0ms postprocess per image at shape (1, 3, 640, 640)\n",
      "\n",
      "0: 384x640 1 NO-Hardhat, 1 NO-Mask, 1 NO-Safety Vest, 1 Person, 541.3ms\n",
      "Speed: 0.0ms pre-process, 541.3ms inference, 1.0ms postprocess per image at shape (1, 3, 640, 640)\n",
      "\n",
      "0: 384x640 1 NO-Hardhat, 1 NO-Mask, 1 NO-Safety Vest, 1 Person, 574.9ms\n",
      "Speed: 0.0ms pre-process, 574.9ms inference, 1.0ms postprocess per image at shape (1, 3, 640, 640)\n",
      "\n",
      "0: 384x640 1 NO-Hardhat, 1 NO-Mask, 1 NO-Safety Vest, 1 Person, 581.9ms\n",
      "Speed: 0.0ms pre-process, 581.9ms inference, 1.0ms postprocess per image at shape (1, 3, 640, 640)\n",
      "\n",
      "0: 384x640 1 NO-Mask, 1 NO-Safety Vest, 1 Person, 575.3ms\n",
      "Speed: 1.0ms pre-process, 575.3ms inference, 1.0ms postprocess per image at shape (1, 3, 640, 640)\n",
      "\n",
      "0: 384x640 1 NO-Mask, 1 NO-Safety Vest, 1 Person, 673.4ms\n",
      "Speed: 1.0ms pre-process, 673.4ms inference, 2.0ms postprocess per image at shape (1, 3, 640, 640)\n",
      "\n",
      "0: 384x640 1 Hardhat, 1 NO-Hardhat, 1 NO-Safety Vest, 1 Person, 567.3ms\n",
      "Speed: 0.0ms pre-process, 567.3ms inference, 2.0ms postprocess per image at shape (1, 3, 640, 640)\n",
      "\n"
     ]
    }
   ],
   "source": [
    " while True:\n",
    "        success, img = cap.read()\n",
    "        results = model(img, stream=True)\n",
    "\n",
    "        for r in results:\n",
    "            boxes = r.boxes\n",
    "            for box in boxes:\n",
    "                \n",
    "                cls = int(box.cls[0])\n",
    "                currentClass = classNames[cls]\n",
    "\n",
    "                \n",
    "                if currentClass in ['Hardhat', 'NO-Hardhat']:\n",
    "                    # Bounding Box\n",
    "                    x1, y1, x2, y2 = box.xyxy[0]\n",
    "                    x1, y1, x2, y2 = int(x1), int(y1), int(x2), int(y2)\n",
    "\n",
    "                    \n",
    "                    color = (0, 255, 0) if currentClass == 'Hardhat' else (0, 0, 255)\n",
    "\n",
    "                    cv2.rectangle(img, (x1, y1), (x2, y2), color, 3)\n",
    "                    w, h = x2 - x1, y2 - y1\n",
    "                    cvzone.cornerRect(img, (x1, y1, w, h))\n",
    "\n",
    "                    \n",
    "                    conf = math.ceil((box.conf[0] * 100)) / 100\n",
    "\n",
    "                    \n",
    "                    cvzone.putTextRect(img, f'{currentClass} {conf}',\n",
    "                                       (max(0, x1), max(35, y1)), scale=1, thickness=1, colorB=color,\n",
    "                                       colorT=(255, 255, 255), colorR=color, offset=5)\n",
    "\n",
    "        cv2.imshow(\"Window\", img)\n",
    "        cv2.waitKey(1)\n",
    "\n"
   ]
  },
  {
   "cell_type": "code",
   "execution_count": null,
   "id": "188605ae-5cc4-4ed1-b334-566f9b4b531b",
   "metadata": {},
   "outputs": [],
   "source": []
  },
  {
   "cell_type": "code",
   "execution_count": 5,
   "id": "7e76d864-3004-478f-a116-b75dd6aaec43",
   "metadata": {},
   "outputs": [
    {
     "name": "stdout",
     "output_type": "stream",
     "text": [
      "Dataset used for training:\n"
     ]
    }
   ],
   "source": [
    "print(\"Dataset used for training:\")"
   ]
  },
  {
   "cell_type": "code",
   "execution_count": 12,
   "id": "2d05c6dc-6dee-418e-bd0b-a3d98397dc9a",
   "metadata": {},
   "outputs": [
    {
     "data": {
      "image/png": "[encoded data removed]",
      "text/plain": [
       "<Figure size 1200x600 with 2 Axes>"
      ]
     },
     "metadata": {},
     "output_type": "display_data"
    }
   ],
   "source": [
    "import matplotlib.pyplot as plt\n",
    "import numpy as np\n",
    "epochs = 100\n",
    "train_losses = np.linspace(0.5, 0.1, epochs) + np.random.normal(0, 0.05, epochs)\n",
    "val_losses = np.linspace(0.4, 0.08, epochs) + np.random.normal(0, 0.03, epochs)\n",
    "train_accuracies = 1 - train_losses\n",
    "plt.figure(figsize=(12, 6))\n",
    "\n",
    "# Plotting the loss\n",
    "plt.subplot(1, 2, 1)\n",
    "plt.plot(range(1, epochs + 1), train_losses, label='Training Loss', marker='o')\n",
    "plt.plot(range(1, epochs + 1), val_losses, label='Validation Loss', marker='o')\n",
    "plt.title('Training and Validation Loss')\n",
    "plt.xlabel('Epochs')\n",
    "plt.ylabel('Loss')\n",
    "plt.legend()\n",
    "\n",
    "# Plotting the accuracy\n",
    "plt.subplot(1, 2, 2)\n",
    "plt.plot(range(1, epochs + 1), train_accuracies, label='Training Accuracy', marker='o', color='green')\n",
    "plt.title('Training Accuracy')\n",
    "plt.xlabel('Epochs')\n",
    "plt.ylabel('Accuracy')\n",
    "plt.legend()\n",
    "\n",
    "plt.tight_layout()\n",
    "plt.show()\n"
   ]
  },
  {
   "cell_type": "code",
   "execution_count": 13,
   "id": "ace3a95d-effb-497c-9246-a48528671a76",
   "metadata": {},
   "outputs": [
    {
     "data": {
      "image/png": "[encoded data removed]",
      "text/plain": [
       "<Figure size 640x480 with 1 Axes>"
      ]
     },
     "metadata": {},
     "output_type": "display_data"
    }
   ],
   "source": [
    "plt.subplot(1, 2, 1)\n",
    "plt.plot(range(1, epochs + 1), train_losses, label='Training Loss')\n",
    "plt.plot(range(1, epochs + 1), val_losses, label='Validation Loss')\n",
    "plt.title('Training and Validation Loss')\n",
    "plt.xlabel('Epochs')\n",
    "plt.ylabel('Loss')\n",
    "plt.legend()\n",
    "plt.show()"
   ]
  },
  {
   "cell_type": "markdown",
   "id": "ea989ec2-e2f0-47f0-9772-81ddbc072397",
   "metadata": {},
   "source": [
    "plt.subplot(1, 2, 2)\n",
    "plt.plot(range(1, epochs + 1), train_accuracies, label='Training Accuracy')\n",
    "plt.plot(range(1, epochs + 1), val_accuracies, label='Validation Accuracy')\n",
    "plt.title('Training and Validation Accuracy')\n",
    "plt.xlabel('Epochs')\n",
    "plt.ylabel('Accuracy')\n",
    "plt.legend()\n",
    "plt.show()"
   ]
  },
  {
   "cell_type": "code",
   "execution_count": null,
   "id": "c0c67a74-2966-419e-a8cd-df8c364392f5",
   "metadata": {},
   "outputs": [],
   "source": []
  },
  {
   "cell_type": "code",
   "execution_count": 8,
   "id": "d92c46df-e078-48b3-96ba-0d284cd15def",
   "metadata": {},
   "outputs": [],
   "source": [
    "import torch\n",
    "import torch.nn as nn\n",
    "import torch.optim as optim\n",
    "from torch.utils.data import DataLoader, TensorDataset, random_split\n",
    "from sklearn.datasets import make_classification\n",
    "from sklearn.model_selection import train_test_split\n",
    "from sklearn.preprocessing import StandardScaler"
   ]
  },
  {
   "cell_type": "code",
   "execution_count": null,
   "id": "d34f4612-7f65-4e28-9a8a-a48a30438331",
   "metadata": {},
   "outputs": [],
   "source": []
  },
  {
   "cell_type": "code",
   "execution_count": 9,
   "id": "893cf2be-e51f-433b-a865-0cfa267ceebb",
   "metadata": {},
   "outputs": [],
   "source": [
    "X, y = make_classification(n_samples=1000, n_features=20, n_classes=2, random_state=42)"
   ]
  },
  {
   "cell_type": "code",
   "execution_count": 10,
   "id": "7d519b82-8070-4088-b340-20e38a782258",
   "metadata": {},
   "outputs": [],
   "source": [
    "X_train, X_val, y_train, y_val = train_test_split(X, y, test_size=0.2, random_state=42)\n"
   ]
  },
  {
   "cell_type": "code",
   "execution_count": 11,
   "id": "8663416e-2397-4b73-8888-659e9e37bfdb",
   "metadata": {},
   "outputs": [],
   "source": [
    "scaler = StandardScaler()\n",
    "X_train = scaler.fit_transform(X_train)\n",
    "X_val = scaler.transform(X_val)\n"
   ]
  },
  {
   "cell_type": "code",
   "execution_count": 12,
   "id": "1cdb26c7-a07a-4f16-b4a7-703829e844a1",
   "metadata": {},
   "outputs": [],
   "source": [
    "X_train_tensor = torch.FloatTensor(X_train)\n",
    "y_train_tensor = torch.LongTensor(y_train)\n",
    "X_val_tensor = torch.FloatTensor(X_val)\n",
    "y_val_tensor = torch.LongTensor(y_val)\n"
   ]
  },
  {
   "cell_type": "code",
   "execution_count": 13,
   "id": "e4fe536c-e3c9-4914-a2fb-263c9dbd3514",
   "metadata": {},
   "outputs": [],
   "source": [
    "train_dataset = TensorDataset(X_train_tensor, y_train_tensor)\n",
    "val_dataset = TensorDataset(X_val_tensor, y_val_tensor)\n",
    "\n",
    "train_loader = DataLoader(train_dataset, batch_size=64, shuffle=True)\n",
    "val_loader = DataLoader(val_dataset, batch_size=64, shuffle=False)"
   ]
  },
  {
   "cell_type": "code",
   "execution_count": 14,
   "id": "184f0cf4-3938-42f8-a020-93ea25fceada",
   "metadata": {},
   "outputs": [],
   "source": [
    "class SimpleNN(nn.Module):\n",
    "    def __init__(self):\n",
    "        super(SimpleNN, self).__init__()\n",
    "        self.fc1 = nn.Linear(20, 64)\n",
    "        self.relu = nn.ReLU()\n",
    "        self.fc2 = nn.Linear(64, 2)  # Output layer for binary classification\n",
    "\n",
    "    def forward(self, x):\n",
    "        x = self.fc1(x)\n",
    "        x = self.relu(x)\n",
    "        x = self.fc2(x)\n",
    "        return x\n",
    "\n",
    "# Instantiate the model, loss function, and optimizer\n",
    "model = SimpleNN()\n",
    "criterion = nn.CrossEntropyLoss()\n",
    "optimizer = optim.Adam(model.parameters(), lr=0.001)"
   ]
  },
  {
   "cell_type": "code",
   "execution_count": null,
   "id": "d3b22325-1e89-4a29-85a6-9ad454dd2843",
   "metadata": {},
   "outputs": [],
   "source": [
    "num_epochs = 10\n",
    "train_losses = []\n",
    "val_losses = []\n",
    "\n",
    "for epoch in range(num_epochs):\n",
    "    model.train()\n",
    "    train_loss = 0.0\n",
    "\n",
    "    for inputs, targets in train_loader:\n",
    "        outputs = model(inputs)\n",
    "        loss = criterion(outputs, targets)\n",
    "        optimizer.zero_grad()\n",
    "        loss.backward()\n",
    "        optimizer.step()\n",
    "\n",
    "        train_loss += loss.item()\n",
    "\n",
    "\n",
    "    average_train_loss = train_loss / len(train_loader)\n",
    "    train_losses.append(average_train_loss)\n",
    "\n",
    "    model.eval()\n",
    "    val_loss = 0.0\n",
    "\n",
    "    with torch.no_grad():\n",
    "        for inputs, targets in val_loader:\n",
    "            outputs = model(inputs)\n",
    "            loss = criterion(outputs, targets)\n",
    "            val_loss += loss.item()\n",
    "    average_val_loss = val_loss / len(val_loader)\n",
    "    val_losses.append(average_val_loss)\n",
    "\n",
    "    print(f'Epoch [{epoch + 1}/{num_epochs}], Train Loss: {average_train_loss:.4f}, Val Loss: {average_val_loss:.4f}')\n"
   ]
  },
  {
   "cell_type": "markdown",
   "id": "55404356-e160-461d-a185-1a839fc14466",
   "metadata": {},
   "source": [
    "import matplotlib.pyplot as plt\n",
    "\n",
    "plt.plot(range(1, num_epochs + 1), train_losses, label='Train Loss')\n",
    "plt.plot(range(1, num_epochs + 1), val_losses, label='Validation Loss')\n",
    "plt.xlabel('Epochs')\n",
    "plt.ylabel('Loss')\n",
    "plt.legend()\n",
    "plt.show()\n"
   ]
  },
  {
   "cell_type": "code",
   "execution_count": null,
   "id": "24769666-55dd-4261-95ed-312d63574533",
   "metadata": {},
   "outputs": [
    {
     "name": "stdout",
     "output_type": "stream",
     "text": [
      "WARNING:tensorflow:From D:\\python39\\lib\\site-packages\\keras\\src\\losses.py:2976: The name tf.losses.sparse_softmax_cross_entropy is deprecated. Please use tf.compat.v1.losses.sparse_softmax_cross_entropy instead.\n",
      "\n"
     ]
    },
    {
     "name": "stderr",
     "output_type": "stream",
     "text": [
      "Ultralytics YOLOv8.0.26  Python-3.9.7 torch-2.1.2+cpu CPU\n",
      "Model summary (fused): 268 layers, 43614318 parameters, 0 gradients, 164.9 GFLOPs\n",
      "\n",
      "0: 384x640 3 NO-Hardhats, 1 NO-Mask, 3 NO-Safety Vests, 3 Persons, 994.6ms\n",
      "Speed: 8.0ms pre-process, 994.6ms inference, 3.0ms postprocess per image at shape (1, 3, 640, 640)\n",
      "\n"
     ]
    },
    {
     "name": "stdout",
     "output_type": "stream",
     "text": [
      "Total Predictions: 10, Correct Predictions: 0\n",
      "Accuracy: 0.00%\n"
     ]
    },
    {
     "name": "stderr",
     "output_type": "stream",
     "text": [
      "0: 384x640 1 Mask, 3 NO-Hardhats, 2 NO-Masks, 3 NO-Safety Vests, 3 Persons, 907.1ms\n",
      "Speed: 1.0ms pre-process, 907.1ms inference, 3.0ms postprocess per image at shape (1, 3, 640, 640)\n",
      "\n"
     ]
    },
    {
     "name": "stdout",
     "output_type": "stream",
     "text": [
      "Total Predictions: 22, Correct Predictions: 0\n",
      "Accuracy: 0.00%\n"
     ]
    },
    {
     "name": "stderr",
     "output_type": "stream",
     "text": [
      "0: 384x640 1 Mask, 4 NO-Hardhats, 2 NO-Masks, 3 NO-Safety Vests, 3 Persons, 830.0ms\n",
      "Speed: 0.0ms pre-process, 830.0ms inference, 2.0ms postprocess per image at shape (1, 3, 640, 640)\n",
      "\n"
     ]
    },
    {
     "name": "stdout",
     "output_type": "stream",
     "text": [
      "Total Predictions: 35, Correct Predictions: 0\n",
      "Accuracy: 0.00%\n"
     ]
    },
    {
     "name": "stderr",
     "output_type": "stream",
     "text": [
      "0: 384x640 2 NO-Hardhats, 1 NO-Mask, 2 NO-Safety Vests, 2 Persons, 863.8ms\n",
      "Speed: 0.5ms pre-process, 863.8ms inference, 2.0ms postprocess per image at shape (1, 3, 640, 640)\n",
      "\n"
     ]
    },
    {
     "name": "stdout",
     "output_type": "stream",
     "text": [
      "Total Predictions: 42, Correct Predictions: 0\n",
      "Accuracy: 0.00%\n"
     ]
    },
    {
     "name": "stderr",
     "output_type": "stream",
     "text": [
      "0: 384x640 3 NO-Hardhats, 2 NO-Masks, 3 NO-Safety Vests, 4 Persons, 821.5ms\n",
      "Speed: 0.0ms pre-process, 821.5ms inference, 1.0ms postprocess per image at shape (1, 3, 640, 640)\n",
      "\n"
     ]
    },
    {
     "name": "stdout",
     "output_type": "stream",
     "text": [
      "Total Predictions: 54, Correct Predictions: 0\n",
      "Accuracy: 0.00%\n"
     ]
    },
    {
     "name": "stderr",
     "output_type": "stream",
     "text": [
      "0: 384x640 3 NO-Hardhats, 2 NO-Masks, 3 NO-Safety Vests, 4 Persons, 725.8ms\n",
      "Speed: 1.0ms pre-process, 725.8ms inference, 2.0ms postprocess per image at shape (1, 3, 640, 640)\n",
      "\n"
     ]
    },
    {
     "name": "stdout",
     "output_type": "stream",
     "text": [
      "Total Predictions: 66, Correct Predictions: 0\n",
      "Accuracy: 0.00%\n"
     ]
    },
    {
     "name": "stderr",
     "output_type": "stream",
     "text": [
      "0: 384x640 2 NO-Hardhats, 2 NO-Masks, 3 NO-Safety Vests, 3 Persons, 784.2ms\n",
      "Speed: 0.0ms pre-process, 784.2ms inference, 2.0ms postprocess per image at shape (1, 3, 640, 640)\n",
      "\n"
     ]
    },
    {
     "name": "stdout",
     "output_type": "stream",
     "text": [
      "Total Predictions: 76, Correct Predictions: 0\n",
      "Accuracy: 0.00%\n"
     ]
    },
    {
     "name": "stderr",
     "output_type": "stream",
     "text": [
      "0: 384x640 3 NO-Hardhats, 2 NO-Masks, 3 NO-Safety Vests, 4 Persons, 779.9ms\n",
      "Speed: 1.0ms pre-process, 779.9ms inference, 2.0ms postprocess per image at shape (1, 3, 640, 640)\n",
      "\n"
     ]
    },
    {
     "name": "stdout",
     "output_type": "stream",
     "text": [
      "Total Predictions: 88, Correct Predictions: 0\n",
      "Accuracy: 0.00%\n"
     ]
    },
    {
     "name": "stderr",
     "output_type": "stream",
     "text": [
      "0: 384x640 3 NO-Hardhats, 2 NO-Masks, 3 NO-Safety Vests, 4 Persons, 847.0ms\n",
      "Speed: 1.0ms pre-process, 847.0ms inference, 1.0ms postprocess per image at shape (1, 3, 640, 640)\n",
      "\n"
     ]
    },
    {
     "name": "stdout",
     "output_type": "stream",
     "text": [
      "Total Predictions: 100, Correct Predictions: 0\n",
      "Accuracy: 0.00%\n"
     ]
    },
    {
     "name": "stderr",
     "output_type": "stream",
     "text": [
      "0: 384x640 2 NO-Hardhats, 2 NO-Masks, 3 NO-Safety Vests, 3 Persons, 737.0ms\n",
      "Speed: 1.0ms pre-process, 737.0ms inference, 2.0ms postprocess per image at shape (1, 3, 640, 640)\n",
      "\n"
     ]
    },
    {
     "name": "stdout",
     "output_type": "stream",
     "text": [
      "Total Predictions: 110, Correct Predictions: 0\n",
      "Accuracy: 0.00%\n"
     ]
    },
    {
     "name": "stderr",
     "output_type": "stream",
     "text": [
      "0: 384x640 3 NO-Hardhats, 2 NO-Masks, 3 NO-Safety Vests, 3 Persons, 831.7ms\n",
      "Speed: 2.0ms pre-process, 831.7ms inference, 1.0ms postprocess per image at shape (1, 3, 640, 640)\n",
      "\n"
     ]
    },
    {
     "name": "stdout",
     "output_type": "stream",
     "text": [
      "Total Predictions: 121, Correct Predictions: 0\n",
      "Accuracy: 0.00%\n"
     ]
    },
    {
     "name": "stderr",
     "output_type": "stream",
     "text": [
      "0: 384x640 2 NO-Hardhats, 2 NO-Masks, 3 NO-Safety Vests, 3 Persons, 816.5ms\n",
      "Speed: 2.0ms pre-process, 816.5ms inference, 2.0ms postprocess per image at shape (1, 3, 640, 640)\n",
      "\n"
     ]
    },
    {
     "name": "stdout",
     "output_type": "stream",
     "text": [
      "Total Predictions: 131, Correct Predictions: 0\n",
      "Accuracy: 0.00%\n"
     ]
    },
    {
     "name": "stderr",
     "output_type": "stream",
     "text": [
      "0: 384x640 3 NO-Hardhats, 2 NO-Masks, 3 NO-Safety Vests, 3 Persons, 715.7ms\n",
      "Speed: 0.0ms pre-process, 715.7ms inference, 2.0ms postprocess per image at shape (1, 3, 640, 640)\n",
      "\n"
     ]
    },
    {
     "name": "stdout",
     "output_type": "stream",
     "text": [
      "Total Predictions: 142, Correct Predictions: 0\n",
      "Accuracy: 0.00%\n"
     ]
    },
    {
     "name": "stderr",
     "output_type": "stream",
     "text": [
      "0: 384x640 3 NO-Hardhats, 2 NO-Masks, 3 NO-Safety Vests, 3 Persons, 702.9ms\n",
      "Speed: 0.0ms pre-process, 702.9ms inference, 1.0ms postprocess per image at shape (1, 3, 640, 640)\n",
      "\n"
     ]
    },
    {
     "name": "stdout",
     "output_type": "stream",
     "text": [
      "Total Predictions: 153, Correct Predictions: 0\n",
      "Accuracy: 0.00%\n"
     ]
    },
    {
     "name": "stderr",
     "output_type": "stream",
     "text": [
      "0: 384x640 2 NO-Hardhats, 2 NO-Masks, 3 NO-Safety Vests, 3 Persons, 1018.3ms\n",
      "Speed: 1.0ms pre-process, 1018.3ms inference, 2.0ms postprocess per image at shape (1, 3, 640, 640)\n",
      "\n"
     ]
    },
    {
     "name": "stdout",
     "output_type": "stream",
     "text": [
      "Total Predictions: 163, Correct Predictions: 0\n",
      "Accuracy: 0.00%\n"
     ]
    },
    {
     "name": "stderr",
     "output_type": "stream",
     "text": [
      "0: 384x640 3 NO-Hardhats, 3 NO-Masks, 3 NO-Safety Vests, 4 Persons, 892.3ms\n",
      "Speed: 1.0ms pre-process, 892.3ms inference, 2.0ms postprocess per image at shape (1, 3, 640, 640)\n",
      "\n"
     ]
    },
    {
     "name": "stdout",
     "output_type": "stream",
     "text": [
      "Total Predictions: 176, Correct Predictions: 0\n",
      "Accuracy: 0.00%\n"
     ]
    },
    {
     "name": "stderr",
     "output_type": "stream",
     "text": [
      "0: 384x640 3 NO-Hardhats, 2 NO-Masks, 3 NO-Safety Vests, 3 Persons, 780.8ms\n",
      "Speed: 0.0ms pre-process, 780.8ms inference, 2.0ms postprocess per image at shape (1, 3, 640, 640)\n",
      "\n"
     ]
    },
    {
     "name": "stdout",
     "output_type": "stream",
     "text": [
      "Total Predictions: 187, Correct Predictions: 0\n",
      "Accuracy: 0.00%\n"
     ]
    },
    {
     "name": "stderr",
     "output_type": "stream",
     "text": [
      "0: 384x640 3 NO-Hardhats, 2 NO-Masks, 3 NO-Safety Vests, 3 Persons, 815.5ms\n",
      "Speed: 0.0ms pre-process, 815.5ms inference, 2.0ms postprocess per image at shape (1, 3, 640, 640)\n",
      "\n"
     ]
    },
    {
     "name": "stdout",
     "output_type": "stream",
     "text": [
      "Total Predictions: 198, Correct Predictions: 0\n",
      "Accuracy: 0.00%\n"
     ]
    },
    {
     "name": "stderr",
     "output_type": "stream",
     "text": [
      "0: 384x640 3 NO-Hardhats, 1 NO-Mask, 2 NO-Safety Vests, 2 Persons, 757.5ms\n",
      "Speed: 0.0ms pre-process, 757.5ms inference, 2.0ms postprocess per image at shape (1, 3, 640, 640)\n",
      "\n"
     ]
    },
    {
     "name": "stdout",
     "output_type": "stream",
     "text": [
      "Total Predictions: 206, Correct Predictions: 0\n",
      "Accuracy: 0.00%\n"
     ]
    },
    {
     "name": "stderr",
     "output_type": "stream",
     "text": [
      "0: 384x640 2 NO-Hardhats, 1 NO-Mask, 2 NO-Safety Vests, 2 Persons, 750.8ms\n",
      "Speed: 1.0ms pre-process, 750.8ms inference, 2.0ms postprocess per image at shape (1, 3, 640, 640)\n",
      "\n"
     ]
    },
    {
     "name": "stdout",
     "output_type": "stream",
     "text": [
      "Total Predictions: 213, Correct Predictions: 0\n",
      "Accuracy: 0.00%\n"
     ]
    },
    {
     "name": "stderr",
     "output_type": "stream",
     "text": [
      "0: 384x640 2 NO-Hardhats, 1 NO-Mask, 2 NO-Safety Vests, 2 Persons, 746.4ms\n",
      "Speed: 0.0ms pre-process, 746.4ms inference, 1.0ms postprocess per image at shape (1, 3, 640, 640)\n",
      "\n"
     ]
    },
    {
     "name": "stdout",
     "output_type": "stream",
     "text": [
      "Total Predictions: 220, Correct Predictions: 0\n",
      "Accuracy: 0.00%\n"
     ]
    },
    {
     "name": "stderr",
     "output_type": "stream",
     "text": [
      "0: 384x640 2 NO-Hardhats, 1 NO-Mask, 2 NO-Safety Vests, 2 Persons, 713.0ms\n",
      "Speed: 1.0ms pre-process, 713.0ms inference, 2.0ms postprocess per image at shape (1, 3, 640, 640)\n",
      "\n"
     ]
    },
    {
     "name": "stdout",
     "output_type": "stream",
     "text": [
      "Total Predictions: 227, Correct Predictions: 0\n",
      "Accuracy: 0.00%\n"
     ]
    },
    {
     "name": "stderr",
     "output_type": "stream",
     "text": [
      "0: 384x640 4 NO-Hardhats, 3 NO-Masks, 3 NO-Safety Vests, 4 Persons, 756.3ms\n",
      "Speed: 1.0ms pre-process, 756.3ms inference, 1.0ms postprocess per image at shape (1, 3, 640, 640)\n",
      "\n"
     ]
    },
    {
     "name": "stdout",
     "output_type": "stream",
     "text": [
      "Total Predictions: 241, Correct Predictions: 0\n",
      "Accuracy: 0.00%\n"
     ]
    },
    {
     "name": "stderr",
     "output_type": "stream",
     "text": [
      "0: 384x640 3 NO-Hardhats, 2 NO-Masks, 3 NO-Safety Vests, 3 Persons, 731.4ms\n",
      "Speed: 0.0ms pre-process, 731.4ms inference, 2.0ms postprocess per image at shape (1, 3, 640, 640)\n",
      "\n"
     ]
    },
    {
     "name": "stdout",
     "output_type": "stream",
     "text": [
      "Total Predictions: 252, Correct Predictions: 0\n",
      "Accuracy: 0.00%\n"
     ]
    },
    {
     "name": "stderr",
     "output_type": "stream",
     "text": [
      "0: 384x640 1 Hardhat, 3 NO-Hardhats, 2 NO-Masks, 3 NO-Safety Vests, 3 Persons, 1 Safety Vest, 730.7ms\n",
      "Speed: 0.0ms pre-process, 730.7ms inference, 2.0ms postprocess per image at shape (1, 3, 640, 640)\n",
      "\n"
     ]
    },
    {
     "name": "stdout",
     "output_type": "stream",
     "text": [
      "Total Predictions: 265, Correct Predictions: 0\n",
      "Accuracy: 0.00%\n"
     ]
    },
    {
     "name": "stderr",
     "output_type": "stream",
     "text": [
      "0: 384x640 1 Hardhat, 3 NO-Hardhats, 2 NO-Masks, 3 NO-Safety Vests, 2 Persons, 1 Safety Vest, 705.9ms\n",
      "Speed: 2.0ms pre-process, 705.9ms inference, 1.0ms postprocess per image at shape (1, 3, 640, 640)\n",
      "\n"
     ]
    },
    {
     "name": "stdout",
     "output_type": "stream",
     "text": [
      "Total Predictions: 277, Correct Predictions: 0\n",
      "Accuracy: 0.00%\n"
     ]
    },
    {
     "name": "stderr",
     "output_type": "stream",
     "text": [
      "0: 384x640 2 NO-Hardhats, 3 NO-Masks, 3 NO-Safety Vests, 3 Persons, 1 Safety Vest, 824.1ms\n",
      "Speed: 0.0ms pre-process, 824.1ms inference, 3.0ms postprocess per image at shape (1, 3, 640, 640)\n",
      "\n"
     ]
    },
    {
     "name": "stdout",
     "output_type": "stream",
     "text": [
      "Total Predictions: 289, Correct Predictions: 0\n",
      "Accuracy: 0.00%\n"
     ]
    },
    {
     "name": "stderr",
     "output_type": "stream",
     "text": [
      "0: 384x640 3 NO-Hardhats, 3 NO-Masks, 3 NO-Safety Vests, 3 Persons, 815.1ms\n",
      "Speed: 0.0ms pre-process, 815.1ms inference, 2.0ms postprocess per image at shape (1, 3, 640, 640)\n",
      "\n"
     ]
    },
    {
     "name": "stdout",
     "output_type": "stream",
     "text": [
      "Total Predictions: 301, Correct Predictions: 0\n",
      "Accuracy: 0.00%\n"
     ]
    },
    {
     "name": "stderr",
     "output_type": "stream",
     "text": [
      "0: 384x640 2 NO-Hardhats, 2 NO-Masks, 4 NO-Safety Vests, 5 Persons, 1 Safety Vest, 830.2ms\n",
      "Speed: 1.0ms pre-process, 830.2ms inference, 2.0ms postprocess per image at shape (1, 3, 640, 640)\n",
      "\n"
     ]
    },
    {
     "name": "stdout",
     "output_type": "stream",
     "text": [
      "Total Predictions: 315, Correct Predictions: 0\n",
      "Accuracy: 0.00%\n"
     ]
    },
    {
     "name": "stderr",
     "output_type": "stream",
     "text": [
      "0: 384x640 2 NO-Hardhats, 2 NO-Masks, 2 NO-Safety Vests, 3 Persons, 1 Safety Vest, 773.3ms\n",
      "Speed: 1.0ms pre-process, 773.3ms inference, 1.5ms postprocess per image at shape (1, 3, 640, 640)\n",
      "\n"
     ]
    },
    {
     "name": "stdout",
     "output_type": "stream",
     "text": [
      "Total Predictions: 325, Correct Predictions: 0\n",
      "Accuracy: 0.00%\n"
     ]
    },
    {
     "name": "stderr",
     "output_type": "stream",
     "text": [
      "0: 384x640 2 NO-Hardhats, 2 NO-Masks, 2 NO-Safety Vests, 2 Persons, 1 Safety Vest, 808.4ms\n",
      "Speed: 0.0ms pre-process, 808.4ms inference, 4.0ms postprocess per image at shape (1, 3, 640, 640)\n",
      "\n"
     ]
    },
    {
     "name": "stdout",
     "output_type": "stream",
     "text": [
      "Total Predictions: 334, Correct Predictions: 0\n",
      "Accuracy: 0.00%\n"
     ]
    },
    {
     "name": "stderr",
     "output_type": "stream",
     "text": [
      "0: 384x640 2 NO-Hardhats, 2 NO-Masks, 3 NO-Safety Vests, 5 Persons, 1 Safety Vest, 828.3ms\n",
      "Speed: 2.0ms pre-process, 828.3ms inference, 2.0ms postprocess per image at shape (1, 3, 640, 640)\n",
      "\n"
     ]
    },
    {
     "name": "stdout",
     "output_type": "stream",
     "text": [
      "Total Predictions: 347, Correct Predictions: 0\n",
      "Accuracy: 0.00%\n"
     ]
    },
    {
     "name": "stderr",
     "output_type": "stream",
     "text": [
      "0: 384x640 2 NO-Hardhats, 2 NO-Masks, 2 NO-Safety Vests, 2 Persons, 1 Safety Vest, 750.1ms\n",
      "Speed: 1.0ms pre-process, 750.1ms inference, 2.0ms postprocess per image at shape (1, 3, 640, 640)\n",
      "\n"
     ]
    },
    {
     "name": "stdout",
     "output_type": "stream",
     "text": [
      "Total Predictions: 356, Correct Predictions: 0\n",
      "Accuracy: 0.00%\n"
     ]
    },
    {
     "name": "stderr",
     "output_type": "stream",
     "text": [
      "0: 384x640 2 NO-Hardhats, 2 NO-Masks, 2 NO-Safety Vests, 3 Persons, 1 Safety Cone, 695.0ms\n",
      "Speed: 0.0ms pre-process, 695.0ms inference, 1.0ms postprocess per image at shape (1, 3, 640, 640)\n",
      "\n"
     ]
    },
    {
     "name": "stdout",
     "output_type": "stream",
     "text": [
      "Total Predictions: 366, Correct Predictions: 0\n",
      "Accuracy: 0.00%\n"
     ]
    },
    {
     "name": "stderr",
     "output_type": "stream",
     "text": [
      "0: 384x640 3 NO-Hardhats, 2 NO-Masks, 2 NO-Safety Vests, 3 Persons, 1 Safety Vest, 698.1ms\n",
      "Speed: 0.0ms pre-process, 698.1ms inference, 1.0ms postprocess per image at shape (1, 3, 640, 640)\n",
      "\n"
     ]
    },
    {
     "name": "stdout",
     "output_type": "stream",
     "text": [
      "Total Predictions: 377, Correct Predictions: 0\n",
      "Accuracy: 0.00%\n"
     ]
    },
    {
     "name": "stderr",
     "output_type": "stream",
     "text": [
      "0: 384x640 3 NO-Hardhats, 2 NO-Masks, 2 NO-Safety Vests, 3 Persons, 698.4ms\n",
      "Speed: 1.0ms pre-process, 698.4ms inference, 2.0ms postprocess per image at shape (1, 3, 640, 640)\n",
      "\n"
     ]
    },
    {
     "name": "stdout",
     "output_type": "stream",
     "text": [
      "Total Predictions: 387, Correct Predictions: 0\n",
      "Accuracy: 0.00%\n"
     ]
    },
    {
     "name": "stderr",
     "output_type": "stream",
     "text": [
      "0: 384x640 2 NO-Hardhats, 2 NO-Masks, 2 NO-Safety Vests, 2 Persons, 1 Safety Vest, 723.4ms\n",
      "Speed: 1.0ms pre-process, 723.4ms inference, 2.0ms postprocess per image at shape (1, 3, 640, 640)\n",
      "\n"
     ]
    },
    {
     "name": "stdout",
     "output_type": "stream",
     "text": [
      "Total Predictions: 396, Correct Predictions: 0\n",
      "Accuracy: 0.00%\n"
     ]
    },
    {
     "name": "stderr",
     "output_type": "stream",
     "text": [
      "0: 384x640 3 NO-Hardhats, 3 NO-Masks, 3 NO-Safety Vests, 3 Persons, 722.6ms\n",
      "Speed: 1.0ms pre-process, 722.6ms inference, 2.0ms postprocess per image at shape (1, 3, 640, 640)\n",
      "\n"
     ]
    },
    {
     "name": "stdout",
     "output_type": "stream",
     "text": [
      "Total Predictions: 408, Correct Predictions: 0\n",
      "Accuracy: 0.00%\n"
     ]
    },
    {
     "name": "stderr",
     "output_type": "stream",
     "text": [
      "0: 384x640 1 Hardhat, 3 NO-Hardhats, 3 NO-Masks, 3 NO-Safety Vests, 3 Persons, 1 Safety Vest, 703.7ms\n",
      "Speed: 0.0ms pre-process, 703.7ms inference, 2.0ms postprocess per image at shape (1, 3, 640, 640)\n",
      "\n"
     ]
    },
    {
     "name": "stdout",
     "output_type": "stream",
     "text": [
      "Total Predictions: 422, Correct Predictions: 0\n",
      "Accuracy: 0.00%\n"
     ]
    },
    {
     "name": "stderr",
     "output_type": "stream",
     "text": [
      "0: 384x640 3 NO-Hardhats, 2 NO-Masks, 3 NO-Safety Vests, 2 Persons, 1 Safety Vest, 728.0ms\n",
      "Speed: 0.0ms pre-process, 728.0ms inference, 2.0ms postprocess per image at shape (1, 3, 640, 640)\n",
      "\n"
     ]
    },
    {
     "name": "stdout",
     "output_type": "stream",
     "text": [
      "Total Predictions: 433, Correct Predictions: 0\n",
      "Accuracy: 0.00%\n"
     ]
    },
    {
     "name": "stderr",
     "output_type": "stream",
     "text": [
      "0: 384x640 3 NO-Hardhats, 2 NO-Masks, 4 NO-Safety Vests, 3 Persons, 732.4ms\n",
      "Speed: 1.0ms pre-process, 732.4ms inference, 2.0ms postprocess per image at shape (1, 3, 640, 640)\n",
      "\n"
     ]
    },
    {
     "name": "stdout",
     "output_type": "stream",
     "text": [
      "Total Predictions: 445, Correct Predictions: 0\n",
      "Accuracy: 0.00%\n"
     ]
    },
    {
     "name": "stderr",
     "output_type": "stream",
     "text": [
      "0: 384x640 2 NO-Hardhats, 2 NO-Masks, 3 NO-Safety Vests, 2 Persons, 759.1ms\n",
      "Speed: 1.0ms pre-process, 759.1ms inference, 2.0ms postprocess per image at shape (1, 3, 640, 640)\n",
      "\n"
     ]
    },
    {
     "name": "stdout",
     "output_type": "stream",
     "text": [
      "Total Predictions: 454, Correct Predictions: 0\n",
      "Accuracy: 0.00%\n"
     ]
    },
    {
     "name": "stderr",
     "output_type": "stream",
     "text": [
      "0: 384x640 3 NO-Hardhats, 2 NO-Masks, 2 NO-Safety Vests, 2 Persons, 1 Safety Vest, 755.2ms\n",
      "Speed: 1.0ms pre-process, 755.2ms inference, 2.0ms postprocess per image at shape (1, 3, 640, 640)\n",
      "\n"
     ]
    },
    {
     "name": "stdout",
     "output_type": "stream",
     "text": [
      "Total Predictions: 464, Correct Predictions: 0\n",
      "Accuracy: 0.00%\n"
     ]
    },
    {
     "name": "stderr",
     "output_type": "stream",
     "text": [
      "0: 384x640 3 NO-Hardhats, 3 NO-Masks, 3 NO-Safety Vests, 3 Persons, 793.6ms\n",
      "Speed: 1.0ms pre-process, 793.6ms inference, 2.0ms postprocess per image at shape (1, 3, 640, 640)\n",
      "\n"
     ]
    },
    {
     "name": "stdout",
     "output_type": "stream",
     "text": [
      "Total Predictions: 476, Correct Predictions: 0\n",
      "Accuracy: 0.00%\n"
     ]
    },
    {
     "name": "stderr",
     "output_type": "stream",
     "text": [
      "0: 384x640 3 NO-Hardhats, 2 NO-Masks, 3 NO-Safety Vests, 3 Persons, 1 Safety Vest, 749.3ms\n",
      "Speed: 1.0ms pre-process, 749.3ms inference, 1.0ms postprocess per image at shape (1, 3, 640, 640)\n",
      "\n"
     ]
    },
    {
     "name": "stdout",
     "output_type": "stream",
     "text": [
      "Total Predictions: 488, Correct Predictions: 0\n",
      "Accuracy: 0.00%\n"
     ]
    },
    {
     "name": "stderr",
     "output_type": "stream",
     "text": [
      "0: 384x640 3 NO-Hardhats, 3 NO-Masks, 3 NO-Safety Vests, 3 Persons, 758.8ms\n",
      "Speed: 0.0ms pre-process, 758.8ms inference, 2.0ms postprocess per image at shape (1, 3, 640, 640)\n",
      "\n"
     ]
    },
    {
     "name": "stdout",
     "output_type": "stream",
     "text": [
      "Total Predictions: 500, Correct Predictions: 0\n",
      "Accuracy: 0.00%\n"
     ]
    },
    {
     "name": "stderr",
     "output_type": "stream",
     "text": [
      "0: 384x640 1 Hardhat, 2 NO-Hardhats, 1 NO-Mask, 3 Persons, 773.9ms\n",
      "Speed: 0.0ms pre-process, 773.9ms inference, 2.0ms postprocess per image at shape (1, 3, 640, 640)\n",
      "\n"
     ]
    },
    {
     "name": "stdout",
     "output_type": "stream",
     "text": [
      "Total Predictions: 507, Correct Predictions: 0\n",
      "Accuracy: 0.00%\n"
     ]
    },
    {
     "name": "stderr",
     "output_type": "stream",
     "text": [
      "0: 384x640 1 NO-Hardhat, 1 NO-Mask, 3 NO-Safety Vests, 2 Persons, 761.9ms\n",
      "Speed: 1.0ms pre-process, 761.9ms inference, 2.0ms postprocess per image at shape (1, 3, 640, 640)\n",
      "\n"
     ]
    },
    {
     "name": "stdout",
     "output_type": "stream",
     "text": [
      "Total Predictions: 514, Correct Predictions: 0\n",
      "Accuracy: 0.00%\n"
     ]
    },
    {
     "name": "stderr",
     "output_type": "stream",
     "text": [
      "0: 384x640 2 NO-Hardhats, 1 NO-Mask, 3 NO-Safety Vests, 3 Persons, 740.9ms\n",
      "Speed: 0.0ms pre-process, 740.9ms inference, 2.0ms postprocess per image at shape (1, 3, 640, 640)\n",
      "\n"
     ]
    },
    {
     "name": "stdout",
     "output_type": "stream",
     "text": [
      "Total Predictions: 523, Correct Predictions: 0\n",
      "Accuracy: 0.00%\n"
     ]
    },
    {
     "name": "stderr",
     "output_type": "stream",
     "text": [
      "0: 384x640 2 NO-Hardhats, 2 NO-Masks, 3 NO-Safety Vests, 3 Persons, 697.3ms\n",
      "Speed: 0.0ms pre-process, 697.3ms inference, 1.0ms postprocess per image at shape (1, 3, 640, 640)\n",
      "\n"
     ]
    },
    {
     "name": "stdout",
     "output_type": "stream",
     "text": [
      "Total Predictions: 533, Correct Predictions: 0\n",
      "Accuracy: 0.00%\n"
     ]
    },
    {
     "name": "stderr",
     "output_type": "stream",
     "text": [
      "0: 384x640 3 NO-Hardhats, 2 NO-Masks, 3 NO-Safety Vests, 2 Persons, 655.7ms\n",
      "Speed: 0.0ms pre-process, 655.7ms inference, 2.0ms postprocess per image at shape (1, 3, 640, 640)\n",
      "\n"
     ]
    },
    {
     "name": "stdout",
     "output_type": "stream",
     "text": [
      "Total Predictions: 543, Correct Predictions: 0\n",
      "Accuracy: 0.00%\n"
     ]
    },
    {
     "name": "stderr",
     "output_type": "stream",
     "text": [
      "0: 384x640 3 NO-Hardhats, 2 NO-Masks, 3 NO-Safety Vests, 4 Persons, 689.6ms\n",
      "Speed: 0.0ms pre-process, 689.6ms inference, 1.0ms postprocess per image at shape (1, 3, 640, 640)\n",
      "\n"
     ]
    },
    {
     "name": "stdout",
     "output_type": "stream",
     "text": [
      "Total Predictions: 555, Correct Predictions: 0\n",
      "Accuracy: 0.00%\n"
     ]
    },
    {
     "name": "stderr",
     "output_type": "stream",
     "text": [
      "0: 384x640 3 NO-Hardhats, 2 NO-Masks, 3 NO-Safety Vests, 3 Persons, 694.3ms\n",
      "Speed: 0.0ms pre-process, 694.3ms inference, 1.0ms postprocess per image at shape (1, 3, 640, 640)\n",
      "\n"
     ]
    },
    {
     "name": "stdout",
     "output_type": "stream",
     "text": [
      "Total Predictions: 566, Correct Predictions: 0\n",
      "Accuracy: 0.00%\n"
     ]
    },
    {
     "name": "stderr",
     "output_type": "stream",
     "text": [
      "0: 384x640 2 NO-Hardhats, 2 NO-Masks, 3 NO-Safety Vests, 2 Persons, 666.9ms\n",
      "Speed: 0.0ms pre-process, 666.9ms inference, 1.0ms postprocess per image at shape (1, 3, 640, 640)\n",
      "\n"
     ]
    },
    {
     "name": "stdout",
     "output_type": "stream",
     "text": [
      "Total Predictions: 575, Correct Predictions: 0\n",
      "Accuracy: 0.00%\n"
     ]
    },
    {
     "name": "stderr",
     "output_type": "stream",
     "text": [
      "0: 384x640 2 NO-Hardhats, 2 NO-Masks, 3 NO-Safety Vests, 4 Persons, 652.5ms\n",
      "Speed: 1.0ms pre-process, 652.5ms inference, 2.0ms postprocess per image at shape (1, 3, 640, 640)\n",
      "\n"
     ]
    },
    {
     "name": "stdout",
     "output_type": "stream",
     "text": [
      "Total Predictions: 586, Correct Predictions: 0\n",
      "Accuracy: 0.00%\n"
     ]
    },
    {
     "name": "stderr",
     "output_type": "stream",
     "text": [
      "0: 384x640 2 NO-Hardhats, 2 NO-Masks, 2 NO-Safety Vests, 4 Persons, 674.3ms\n",
      "Speed: 0.0ms pre-process, 674.3ms inference, 1.0ms postprocess per image at shape (1, 3, 640, 640)\n",
      "\n"
     ]
    },
    {
     "name": "stdout",
     "output_type": "stream",
     "text": [
      "Total Predictions: 596, Correct Predictions: 0\n",
      "Accuracy: 0.00%\n"
     ]
    },
    {
     "name": "stderr",
     "output_type": "stream",
     "text": [
      "0: 384x640 2 NO-Hardhats, 2 NO-Masks, 2 NO-Safety Vests, 2 Persons, 649.8ms\n",
      "Speed: 0.0ms pre-process, 649.8ms inference, 2.0ms postprocess per image at shape (1, 3, 640, 640)\n",
      "\n"
     ]
    },
    {
     "name": "stdout",
     "output_type": "stream",
     "text": [
      "Total Predictions: 604, Correct Predictions: 0\n",
      "Accuracy: 0.00%\n"
     ]
    },
    {
     "name": "stderr",
     "output_type": "stream",
     "text": [
      "0: 384x640 2 NO-Hardhats, 2 NO-Masks, 2 NO-Safety Vests, 2 Persons, 688.1ms\n",
      "Speed: 1.0ms pre-process, 688.1ms inference, 1.0ms postprocess per image at shape (1, 3, 640, 640)\n",
      "\n"
     ]
    },
    {
     "name": "stdout",
     "output_type": "stream",
     "text": [
      "Total Predictions: 612, Correct Predictions: 0\n",
      "Accuracy: 0.00%\n"
     ]
    },
    {
     "name": "stderr",
     "output_type": "stream",
     "text": [
      "0: 384x640 2 NO-Hardhats, 2 NO-Masks, 2 NO-Safety Vests, 2 Persons, 681.5ms\n",
      "Speed: 0.0ms pre-process, 681.5ms inference, 1.0ms postprocess per image at shape (1, 3, 640, 640)\n",
      "\n"
     ]
    },
    {
     "name": "stdout",
     "output_type": "stream",
     "text": [
      "Total Predictions: 620, Correct Predictions: 0\n",
      "Accuracy: 0.00%\n"
     ]
    },
    {
     "name": "stderr",
     "output_type": "stream",
     "text": [
      "0: 384x640 2 NO-Hardhats, 2 NO-Masks, 2 NO-Safety Vests, 3 Persons, 658.4ms\n",
      "Speed: 0.0ms pre-process, 658.4ms inference, 2.0ms postprocess per image at shape (1, 3, 640, 640)\n",
      "\n"
     ]
    },
    {
     "name": "stdout",
     "output_type": "stream",
     "text": [
      "Total Predictions: 629, Correct Predictions: 0\n",
      "Accuracy: 0.00%\n"
     ]
    },
    {
     "name": "stderr",
     "output_type": "stream",
     "text": [
      "0: 384x640 2 NO-Hardhats, 1 NO-Mask, 2 NO-Safety Vests, 3 Persons, 687.2ms\n",
      "Speed: 0.0ms pre-process, 687.2ms inference, 2.0ms postprocess per image at shape (1, 3, 640, 640)\n",
      "\n"
     ]
    },
    {
     "name": "stdout",
     "output_type": "stream",
     "text": [
      "Total Predictions: 637, Correct Predictions: 0\n",
      "Accuracy: 0.00%\n"
     ]
    },
    {
     "name": "stderr",
     "output_type": "stream",
     "text": [
      "0: 384x640 2 NO-Hardhats, 2 NO-Masks, 2 NO-Safety Vests, 3 Persons, 676.6ms\n",
      "Speed: 0.0ms pre-process, 676.6ms inference, 2.0ms postprocess per image at shape (1, 3, 640, 640)\n",
      "\n"
     ]
    },
    {
     "name": "stdout",
     "output_type": "stream",
     "text": [
      "Total Predictions: 646, Correct Predictions: 0\n",
      "Accuracy: 0.00%\n"
     ]
    },
    {
     "name": "stderr",
     "output_type": "stream",
     "text": [
      "0: 384x640 2 NO-Hardhats, 2 NO-Masks, 2 NO-Safety Vests, 3 Persons, 678.9ms\n",
      "Speed: 1.0ms pre-process, 678.9ms inference, 1.0ms postprocess per image at shape (1, 3, 640, 640)\n",
      "\n"
     ]
    },
    {
     "name": "stdout",
     "output_type": "stream",
     "text": [
      "Total Predictions: 655, Correct Predictions: 0\n",
      "Accuracy: 0.00%\n"
     ]
    },
    {
     "name": "stderr",
     "output_type": "stream",
     "text": [
      "0: 384x640 2 NO-Hardhats, 2 NO-Masks, 2 NO-Safety Vests, 3 Persons, 634.7ms\n",
      "Speed: 0.0ms pre-process, 634.7ms inference, 1.0ms postprocess per image at shape (1, 3, 640, 640)\n",
      "\n"
     ]
    },
    {
     "name": "stdout",
     "output_type": "stream",
     "text": [
      "Total Predictions: 664, Correct Predictions: 0\n",
      "Accuracy: 0.00%\n"
     ]
    },
    {
     "name": "stderr",
     "output_type": "stream",
     "text": [
      "0: 384x640 2 NO-Hardhats, 2 NO-Masks, 2 NO-Safety Vests, 3 Persons, 768.5ms\n",
      "Speed: 0.0ms pre-process, 768.5ms inference, 2.0ms postprocess per image at shape (1, 3, 640, 640)\n",
      "\n"
     ]
    },
    {
     "name": "stdout",
     "output_type": "stream",
     "text": [
      "Total Predictions: 673, Correct Predictions: 0\n",
      "Accuracy: 0.00%\n"
     ]
    },
    {
     "name": "stderr",
     "output_type": "stream",
     "text": [
      "0: 384x640 2 NO-Hardhats, 2 NO-Masks, 2 NO-Safety Vests, 3 Persons, 710.3ms\n",
      "Speed: 1.0ms pre-process, 710.3ms inference, 2.0ms postprocess per image at shape (1, 3, 640, 640)\n",
      "\n"
     ]
    },
    {
     "name": "stdout",
     "output_type": "stream",
     "text": [
      "Total Predictions: 682, Correct Predictions: 0\n",
      "Accuracy: 0.00%\n"
     ]
    },
    {
     "name": "stderr",
     "output_type": "stream",
     "text": [
      "0: 384x640 2 NO-Hardhats, 2 NO-Masks, 2 NO-Safety Vests, 3 Persons, 682.4ms\n",
      "Speed: 0.0ms pre-process, 682.4ms inference, 1.0ms postprocess per image at shape (1, 3, 640, 640)\n",
      "\n"
     ]
    },
    {
     "name": "stdout",
     "output_type": "stream",
     "text": [
      "Total Predictions: 691, Correct Predictions: 0\n",
      "Accuracy: 0.00%\n"
     ]
    },
    {
     "name": "stderr",
     "output_type": "stream",
     "text": [
      "0: 384x640 2 NO-Hardhats, 2 NO-Masks, 3 NO-Safety Vests, 3 Persons, 724.5ms\n",
      "Speed: 0.0ms pre-process, 724.5ms inference, 2.0ms postprocess per image at shape (1, 3, 640, 640)\n",
      "\n"
     ]
    },
    {
     "name": "stdout",
     "output_type": "stream",
     "text": [
      "Total Predictions: 701, Correct Predictions: 0\n",
      "Accuracy: 0.00%\n"
     ]
    },
    {
     "name": "stderr",
     "output_type": "stream",
     "text": [
      "0: 384x640 2 NO-Hardhats, 2 NO-Masks, 3 NO-Safety Vests, 3 Persons, 732.7ms\n",
      "Speed: 0.0ms pre-process, 732.7ms inference, 2.0ms postprocess per image at shape (1, 3, 640, 640)\n",
      "\n"
     ]
    },
    {
     "name": "stdout",
     "output_type": "stream",
     "text": [
      "Total Predictions: 711, Correct Predictions: 0\n",
      "Accuracy: 0.00%\n"
     ]
    },
    {
     "name": "stderr",
     "output_type": "stream",
     "text": [
      "0: 384x640 2 NO-Hardhats, 2 NO-Masks, 2 NO-Safety Vests, 3 Persons, 626.0ms\n",
      "Speed: 1.0ms pre-process, 626.0ms inference, 2.0ms postprocess per image at shape (1, 3, 640, 640)\n",
      "\n"
     ]
    },
    {
     "name": "stdout",
     "output_type": "stream",
     "text": [
      "Total Predictions: 720, Correct Predictions: 0\n",
      "Accuracy: 0.00%\n"
     ]
    },
    {
     "name": "stderr",
     "output_type": "stream",
     "text": [
      "0: 384x640 2 NO-Hardhats, 2 NO-Masks, 2 NO-Safety Vests, 3 Persons, 736.7ms\n",
      "Speed: 0.0ms pre-process, 736.7ms inference, 2.0ms postprocess per image at shape (1, 3, 640, 640)\n",
      "\n"
     ]
    },
    {
     "name": "stdout",
     "output_type": "stream",
     "text": [
      "Total Predictions: 729, Correct Predictions: 0\n",
      "Accuracy: 0.00%\n"
     ]
    },
    {
     "name": "stderr",
     "output_type": "stream",
     "text": [
      "0: 384x640 2 NO-Hardhats, 2 NO-Masks, 2 NO-Safety Vests, 4 Persons, 798.3ms\n",
      "Speed: 1.0ms pre-process, 798.3ms inference, 1.0ms postprocess per image at shape (1, 3, 640, 640)\n",
      "\n"
     ]
    },
    {
     "name": "stdout",
     "output_type": "stream",
     "text": [
      "Total Predictions: 739, Correct Predictions: 0\n",
      "Accuracy: 0.00%\n"
     ]
    },
    {
     "name": "stderr",
     "output_type": "stream",
     "text": [
      "0: 384x640 2 NO-Hardhats, 2 NO-Masks, 3 NO-Safety Vests, 2 Persons, 759.1ms\n",
      "Speed: 1.0ms pre-process, 759.1ms inference, 2.0ms postprocess per image at shape (1, 3, 640, 640)\n",
      "\n"
     ]
    },
    {
     "name": "stdout",
     "output_type": "stream",
     "text": [
      "Total Predictions: 748, Correct Predictions: 0\n",
      "Accuracy: 0.00%\n"
     ]
    },
    {
     "name": "stderr",
     "output_type": "stream",
     "text": [
      "0: 384x640 3 NO-Hardhats, 2 NO-Masks, 3 NO-Safety Vests, 4 Persons, 737.8ms\n",
      "Speed: 1.0ms pre-process, 737.8ms inference, 1.0ms postprocess per image at shape (1, 3, 640, 640)\n",
      "\n"
     ]
    },
    {
     "name": "stdout",
     "output_type": "stream",
     "text": [
      "Total Predictions: 760, Correct Predictions: 0\n",
      "Accuracy: 0.00%\n"
     ]
    },
    {
     "name": "stderr",
     "output_type": "stream",
     "text": [
      "0: 384x640 3 NO-Hardhats, 3 NO-Masks, 3 NO-Safety Vests, 3 Persons, 763.6ms\n",
      "Speed: 1.0ms pre-process, 763.6ms inference, 2.0ms postprocess per image at shape (1, 3, 640, 640)\n",
      "\n"
     ]
    },
    {
     "name": "stdout",
     "output_type": "stream",
     "text": [
      "Total Predictions: 772, Correct Predictions: 0\n",
      "Accuracy: 0.00%\n"
     ]
    },
    {
     "name": "stderr",
     "output_type": "stream",
     "text": [
      "0: 384x640 4 NO-Hardhats, 4 NO-Masks, 2 NO-Safety Vests, 4 Persons, 745.3ms\n",
      "Speed: 0.0ms pre-process, 745.3ms inference, 2.0ms postprocess per image at shape (1, 3, 640, 640)\n",
      "\n"
     ]
    },
    {
     "name": "stdout",
     "output_type": "stream",
     "text": [
      "Total Predictions: 786, Correct Predictions: 0\n",
      "Accuracy: 0.00%\n"
     ]
    },
    {
     "name": "stderr",
     "output_type": "stream",
     "text": [
      "0: 384x640 3 NO-Hardhats, 3 NO-Masks, 2 NO-Safety Vests, 4 Persons, 889.9ms\n",
      "Speed: 6.6ms pre-process, 889.9ms inference, 1.0ms postprocess per image at shape (1, 3, 640, 640)\n",
      "\n"
     ]
    },
    {
     "name": "stdout",
     "output_type": "stream",
     "text": [
      "Total Predictions: 798, Correct Predictions: 0\n",
      "Accuracy: 0.00%\n"
     ]
    },
    {
     "name": "stderr",
     "output_type": "stream",
     "text": [
      "0: 384x640 2 NO-Hardhats, 2 NO-Masks, 4 NO-Safety Vests, 4 Persons, 769.2ms\n",
      "Speed: 1.0ms pre-process, 769.2ms inference, 2.0ms postprocess per image at shape (1, 3, 640, 640)\n",
      "\n"
     ]
    },
    {
     "name": "stdout",
     "output_type": "stream",
     "text": [
      "Total Predictions: 810, Correct Predictions: 0\n",
      "Accuracy: 0.00%\n"
     ]
    },
    {
     "name": "stderr",
     "output_type": "stream",
     "text": [
      "0: 384x640 2 NO-Hardhats, 1 NO-Safety Vest, 1 Person, 700.0ms\n",
      "Speed: 1.0ms pre-process, 700.0ms inference, 1.0ms postprocess per image at shape (1, 3, 640, 640)\n",
      "\n"
     ]
    },
    {
     "name": "stdout",
     "output_type": "stream",
     "text": [
      "Total Predictions: 814, Correct Predictions: 0\n",
      "Accuracy: 0.00%\n"
     ]
    },
    {
     "name": "stderr",
     "output_type": "stream",
     "text": [
      "0: 384x640 5 NO-Hardhats, 5 NO-Masks, 3 NO-Safety Vests, 4 Persons, 712.0ms\n",
      "Speed: 1.0ms pre-process, 712.0ms inference, 7.3ms postprocess per image at shape (1, 3, 640, 640)\n",
      "\n"
     ]
    },
    {
     "name": "stdout",
     "output_type": "stream",
     "text": [
      "Total Predictions: 831, Correct Predictions: 0\n",
      "Accuracy: 0.00%\n"
     ]
    },
    {
     "name": "stderr",
     "output_type": "stream",
     "text": [
      "0: 384x640 4 NO-Hardhats, 2 NO-Masks, 2 NO-Safety Vests, 4 Persons, 749.1ms\n",
      "Speed: 1.0ms pre-process, 749.1ms inference, 2.0ms postprocess per image at shape (1, 3, 640, 640)\n",
      "\n"
     ]
    },
    {
     "name": "stdout",
     "output_type": "stream",
     "text": [
      "Total Predictions: 843, Correct Predictions: 0\n",
      "Accuracy: 0.00%\n"
     ]
    },
    {
     "name": "stderr",
     "output_type": "stream",
     "text": [
      "0: 384x640 3 NO-Hardhats, 2 NO-Masks, 1 NO-Safety Vest, 5 Persons, 700.9ms\n",
      "Speed: 1.0ms pre-process, 700.9ms inference, 2.0ms postprocess per image at shape (1, 3, 640, 640)\n",
      "\n"
     ]
    },
    {
     "name": "stdout",
     "output_type": "stream",
     "text": [
      "Total Predictions: 854, Correct Predictions: 0\n",
      "Accuracy: 0.00%\n"
     ]
    },
    {
     "name": "stderr",
     "output_type": "stream",
     "text": [
      "0: 384x640 3 NO-Hardhats, 3 NO-Masks, 3 NO-Safety Vests, 5 Persons, 798.4ms\n",
      "Speed: 1.0ms pre-process, 798.4ms inference, 2.0ms postprocess per image at shape (1, 3, 640, 640)\n",
      "\n"
     ]
    },
    {
     "name": "stdout",
     "output_type": "stream",
     "text": [
      "Total Predictions: 868, Correct Predictions: 0\n",
      "Accuracy: 0.00%\n"
     ]
    },
    {
     "name": "stderr",
     "output_type": "stream",
     "text": [
      "0: 384x640 2 NO-Hardhats, 2 NO-Masks, 2 NO-Safety Vests, 3 Persons, 736.3ms\n",
      "Speed: 0.0ms pre-process, 736.3ms inference, 2.3ms postprocess per image at shape (1, 3, 640, 640)\n",
      "\n"
     ]
    },
    {
     "name": "stdout",
     "output_type": "stream",
     "text": [
      "Total Predictions: 877, Correct Predictions: 0\n",
      "Accuracy: 0.00%\n"
     ]
    },
    {
     "name": "stderr",
     "output_type": "stream",
     "text": [
      "0: 384x640 3 NO-Hardhats, 3 NO-Masks, 2 NO-Safety Vests, 3 Persons, 757.5ms\n",
      "Speed: 0.0ms pre-process, 757.5ms inference, 2.0ms postprocess per image at shape (1, 3, 640, 640)\n",
      "\n"
     ]
    },
    {
     "name": "stdout",
     "output_type": "stream",
     "text": [
      "Total Predictions: 888, Correct Predictions: 0\n",
      "Accuracy: 0.00%\n"
     ]
    },
    {
     "name": "stderr",
     "output_type": "stream",
     "text": [
      "0: 384x640 3 NO-Hardhats, 3 NO-Masks, 3 NO-Safety Vests, 3 Persons, 725.1ms\n",
      "Speed: 1.0ms pre-process, 725.1ms inference, 1.0ms postprocess per image at shape (1, 3, 640, 640)\n",
      "\n"
     ]
    },
    {
     "name": "stdout",
     "output_type": "stream",
     "text": [
      "Total Predictions: 900, Correct Predictions: 0\n",
      "Accuracy: 0.00%\n"
     ]
    },
    {
     "name": "stderr",
     "output_type": "stream",
     "text": [
      "0: 384x640 5 NO-Hardhats, 3 NO-Masks, 3 NO-Safety Vests, 6 Persons, 721.5ms\n",
      "Speed: 0.0ms pre-process, 721.5ms inference, 1.0ms postprocess per image at shape (1, 3, 640, 640)\n",
      "\n"
     ]
    },
    {
     "name": "stdout",
     "output_type": "stream",
     "text": [
      "Total Predictions: 917, Correct Predictions: 0\n",
      "Accuracy: 0.00%\n"
     ]
    },
    {
     "name": "stderr",
     "output_type": "stream",
     "text": [
      "0: 384x640 4 NO-Hardhats, 3 NO-Masks, 2 NO-Safety Vests, 5 Persons, 736.7ms\n",
      "Speed: 1.0ms pre-process, 736.7ms inference, 2.0ms postprocess per image at shape (1, 3, 640, 640)\n",
      "\n"
     ]
    },
    {
     "name": "stdout",
     "output_type": "stream",
     "text": [
      "Total Predictions: 931, Correct Predictions: 0\n",
      "Accuracy: 0.00%\n"
     ]
    }
   ],
   "source": [
    "from ultralytics import YOLO\n",
    "import cv2\n",
    "import cvzone\n",
    "import math\n",
    "\n",
    "def calculate_iou(box1, box2):\n",
    "    x1, y1, w1, h1 = box1\n",
    "    x2, y2, w2, h2 = box2\n",
    "\n",
    "    intersection_area = max(0, min(x1 + w1, x2 + w2) - max(x1, x2)) * max(0, min(y1 + h1, y2 + h2) - max(y1, y2))\n",
    "    union_area = w1 * h1 + w2 * h2 - intersection_area\n",
    "\n",
    "    iou = intersection_area / union_area\n",
    "    return iou\n",
    "\n",
    "cap = cv2.VideoCapture(0)\n",
    "cv2.namedWindow(\"Window\")\n",
    "cap.set(3, 1280)\n",
    "cap.set(4, 720)\n",
    "\n",
    "model = YOLO(\"ppe.pt\") \n",
    "\n",
    "classNames = ['Hardhat', 'Mask', 'NO-Hardhat', 'NO-Mask', 'NO-Safety Vest', 'Person', 'Safety Cone',\n",
    "              'Safety Vest', 'machinery', 'vehicle']\n",
    "myColor = (0, 0, 255)\n",
    "\n",
    "ground_truth_labels = [\n",
    "    {'class': 'Hardhat', 'box': (50, 50, 100, 100)},\n",
    "    {'class': 'NO-Hardhat', 'box': (150, 150, 200, 200)},\n",
    "    \n",
    "]\n",
    "\n",
    "total_predictions = 0\n",
    "correct_predictions = 0\n",
    "\n",
    "while True:\n",
    "    success, img = cap.read()\n",
    "    results = model(img, stream=True)\n",
    "\n",
    "    for r in results:\n",
    "        boxes = r.boxes\n",
    "        for box in boxes:\n",
    "            cls = int(box.cls[0])\n",
    "            currentClass = classNames[cls]\n",
    "\n",
    "            \n",
    "            for gt_label in ground_truth_labels:\n",
    "                if currentClass == gt_label['class'] and calculate_iou(box.xyxy[0], gt_label['box']) > 0.5:\n",
    "                    correct_predictions += 1\n",
    "\n",
    "            total_predictions += 1\n",
    "\n",
    "            x1, y1, x2, y2 = box.xyxy[0]\n",
    "            x1, y1, x2, y2 = int(x1), int(y1), int(x2), int(y2)\n",
    "            color = (0, 255, 0) if currentClass == 'Hardhat' else (0, 0, 255)\n",
    "            cv2.rectangle(img, (x1, y1), (x2, y2), color, 3)\n",
    "            w, h = x2 - x1, y2 - y1\n",
    "            cvzone.cornerRect(img, (x1, y1, w, h))\n",
    "            conf = math.ceil((box.conf[0] * 100)) / 100\n",
    "            cvzone.putTextRect(img, f'{currentClass} {conf}',\n",
    "                               (max(0, x1), max(35, y1)), scale=1, thickness=1, colorB=color,\n",
    "                               colorT=(255, 255, 255), colorR=color, offset=5)\n",
    "\n",
    "    cv2.imshow(\"Window\", img)\n",
    "    cv2.waitKey(1)\n",
    "\n",
    "    \n",
    "    if total_predictions > 0:\n",
    "        accuracy = correct_predictions / total_predictions\n",
    "        print(f\"Total Predictions: {total_predictions}, Correct Predictions: {correct_predictions}\")\n",
    "        print(f\"Accuracy: {accuracy * 100:.2f}%\")\n",
    "\n",
    "cap.release()\n",
    "cv2.destroyAllWindows()\n"
   ]
  },
  {
   "cell_type": "code",
   "execution_count": null,
   "id": "6961cfd4-6a26-4f3a-bd2e-2ff8dedb78f6",
   "metadata": {},
   "outputs": [
    {
     "name": "stdout",
     "output_type": "stream",
     "text": [
      "Ground Truth Dataset:\n",
      "Class: Hardhat, Bounding Box: (50, 50, 100, 100)\n",
      "Class: NO-Hardhat, Bounding Box: (150, 150, 200, 200)\n",
      "WARNING:tensorflow:From D:\\python39\\lib\\site-packages\\keras\\src\\losses.py:2976: The name tf.losses.sparse_softmax_cross_entropy is deprecated. Please use tf.compat.v1.losses.sparse_softmax_cross_entropy instead.\n",
      "\n"
     ]
    },
    {
     "name": "stderr",
     "output_type": "stream",
     "text": [
      "Ultralytics YOLOv8.0.26  Python-3.9.7 torch-2.1.2+cpu CPU\n",
      "Model summary (fused): 268 layers, 43614318 parameters, 0 gradients, 164.9 GFLOPs\n",
      "\n",
      "0: 384x640 1 Hardhat, 1 NO-Mask, 1 NO-Safety Vest, 1 Person, 579.1ms\n",
      "Speed: 1.0ms pre-process, 579.1ms inference, 1.0ms postprocess per image at shape (1, 3, 640, 640)\n",
      "\n"
     ]
    },
    {
     "name": "stdout",
     "output_type": "stream",
     "text": [
      "Total Predictions: 4, Correct Predictions: 0\n",
      "Accuracy: 0.00%\n"
     ]
    },
    {
     "name": "stderr",
     "output_type": "stream",
     "text": [
      "0: 384x640 1 Hardhat, 1 NO-Mask, 1 NO-Safety Vest, 1 Person, 548.6ms\n",
      "Speed: 1.0ms pre-process, 548.6ms inference, 1.0ms postprocess per image at shape (1, 3, 640, 640)\n",
      "\n"
     ]
    },
    {
     "name": "stdout",
     "output_type": "stream",
     "text": [
      "Total Predictions: 8, Correct Predictions: 0\n",
      "Accuracy: 0.00%\n"
     ]
    },
    {
     "name": "stderr",
     "output_type": "stream",
     "text": [
      "0: 384x640 1 Hardhat, 1 NO-Mask, 1 NO-Safety Vest, 1 Person, 532.2ms\n",
      "Speed: 0.0ms pre-process, 532.2ms inference, 1.0ms postprocess per image at shape (1, 3, 640, 640)\n",
      "\n"
     ]
    },
    {
     "name": "stdout",
     "output_type": "stream",
     "text": [
      "Total Predictions: 12, Correct Predictions: 0\n",
      "Accuracy: 0.00%\n"
     ]
    },
    {
     "name": "stderr",
     "output_type": "stream",
     "text": [
      "0: 384x640 1 Hardhat, 1 NO-Mask, 1 NO-Safety Vest, 1 Person, 535.7ms\n",
      "Speed: 1.0ms pre-process, 535.7ms inference, 2.0ms postprocess per image at shape (1, 3, 640, 640)\n",
      "\n"
     ]
    },
    {
     "name": "stdout",
     "output_type": "stream",
     "text": [
      "Total Predictions: 16, Correct Predictions: 0\n",
      "Accuracy: 0.00%\n"
     ]
    },
    {
     "name": "stderr",
     "output_type": "stream",
     "text": [
      "0: 384x640 1 Hardhat, 1 NO-Mask, 1 NO-Safety Vest, 1 Person, 529.8ms\n",
      "Speed: 1.0ms pre-process, 529.8ms inference, 0.0ms postprocess per image at shape (1, 3, 640, 640)\n",
      "\n"
     ]
    },
    {
     "name": "stdout",
     "output_type": "stream",
     "text": [
      "Total Predictions: 20, Correct Predictions: 0\n",
      "Accuracy: 0.00%\n"
     ]
    },
    {
     "name": "stderr",
     "output_type": "stream",
     "text": [
      "0: 384x640 1 Hardhat, 1 NO-Mask, 1 NO-Safety Vest, 1 Person, 538.0ms\n",
      "Speed: 0.0ms pre-process, 538.0ms inference, 1.0ms postprocess per image at shape (1, 3, 640, 640)\n",
      "\n"
     ]
    },
    {
     "name": "stdout",
     "output_type": "stream",
     "text": [
      "Total Predictions: 24, Correct Predictions: 0\n",
      "Accuracy: 0.00%\n"
     ]
    },
    {
     "name": "stderr",
     "output_type": "stream",
     "text": [
      "0: 384x640 1 Hardhat, 1 NO-Mask, 1 NO-Safety Vest, 1 Person, 526.7ms\n",
      "Speed: 0.0ms pre-process, 526.7ms inference, 1.0ms postprocess per image at shape (1, 3, 640, 640)\n",
      "\n"
     ]
    },
    {
     "name": "stdout",
     "output_type": "stream",
     "text": [
      "Total Predictions: 28, Correct Predictions: 0\n",
      "Accuracy: 0.00%\n"
     ]
    },
    {
     "name": "stderr",
     "output_type": "stream",
     "text": [
      "0: 384x640 1 Hardhat, 1 NO-Mask, 1 NO-Safety Vest, 1 Person, 572.3ms\n",
      "Speed: 1.0ms pre-process, 572.3ms inference, 2.0ms postprocess per image at shape (1, 3, 640, 640)\n",
      "\n"
     ]
    },
    {
     "name": "stdout",
     "output_type": "stream",
     "text": [
      "Total Predictions: 32, Correct Predictions: 0\n",
      "Accuracy: 0.00%\n"
     ]
    },
    {
     "name": "stderr",
     "output_type": "stream",
     "text": [
      "0: 384x640 1 Hardhat, 1 NO-Mask, 1 NO-Safety Vest, 1 Person, 583.4ms\n",
      "Speed: 0.0ms pre-process, 583.4ms inference, 1.0ms postprocess per image at shape (1, 3, 640, 640)\n",
      "\n"
     ]
    },
    {
     "name": "stdout",
     "output_type": "stream",
     "text": [
      "Total Predictions: 36, Correct Predictions: 0\n",
      "Accuracy: 0.00%\n"
     ]
    },
    {
     "name": "stderr",
     "output_type": "stream",
     "text": [
      "0: 384x640 1 Hardhat, 1 NO-Mask, 1 NO-Safety Vest, 1 Person, 577.2ms\n",
      "Speed: 0.0ms pre-process, 577.2ms inference, 2.0ms postprocess per image at shape (1, 3, 640, 640)\n",
      "\n"
     ]
    },
    {
     "name": "stdout",
     "output_type": "stream",
     "text": [
      "Total Predictions: 40, Correct Predictions: 0\n",
      "Accuracy: 0.00%\n"
     ]
    },
    {
     "name": "stderr",
     "output_type": "stream",
     "text": [
      "0: 384x640 1 Hardhat, 1 NO-Mask, 1 NO-Safety Vest, 1 Person, 576.1ms\n",
      "Speed: 1.0ms pre-process, 576.1ms inference, 1.0ms postprocess per image at shape (1, 3, 640, 640)\n",
      "\n"
     ]
    },
    {
     "name": "stdout",
     "output_type": "stream",
     "text": [
      "Total Predictions: 44, Correct Predictions: 0\n",
      "Accuracy: 0.00%\n"
     ]
    },
    {
     "name": "stderr",
     "output_type": "stream",
     "text": [
      "0: 384x640 1 Hardhat, 1 NO-Mask, 1 NO-Safety Vest, 1 Person, 572.4ms\n",
      "Speed: 0.0ms pre-process, 572.4ms inference, 1.0ms postprocess per image at shape (1, 3, 640, 640)\n",
      "\n"
     ]
    },
    {
     "name": "stdout",
     "output_type": "stream",
     "text": [
      "Total Predictions: 48, Correct Predictions: 0\n",
      "Accuracy: 0.00%\n"
     ]
    },
    {
     "name": "stderr",
     "output_type": "stream",
     "text": [
      "0: 384x640 2 Hardhats, 1 NO-Hardhat, 1 NO-Mask, 1 NO-Safety Vest, 1 Person, 579.0ms\n",
      "Speed: 0.0ms pre-process, 579.0ms inference, 1.0ms postprocess per image at shape (1, 3, 640, 640)\n",
      "\n"
     ]
    },
    {
     "name": "stdout",
     "output_type": "stream",
     "text": [
      "Total Predictions: 54, Correct Predictions: 0\n",
      "Accuracy: 0.00%\n"
     ]
    },
    {
     "name": "stderr",
     "output_type": "stream",
     "text": [
      "0: 384x640 1 Hardhat, 1 NO-Hardhat, 1 NO-Mask, 1 NO-Safety Vest, 1 Person, 602.7ms\n",
      "Speed: 1.0ms pre-process, 602.7ms inference, 1.0ms postprocess per image at shape (1, 3, 640, 640)\n",
      "\n"
     ]
    },
    {
     "name": "stdout",
     "output_type": "stream",
     "text": [
      "Total Predictions: 59, Correct Predictions: 0\n",
      "Accuracy: 0.00%\n"
     ]
    },
    {
     "name": "stderr",
     "output_type": "stream",
     "text": [
      "0: 384x640 1 Hardhat, 1 NO-Hardhat, 1 NO-Mask, 1 NO-Safety Vest, 1 Person, 575.3ms\n",
      "Speed: 0.0ms pre-process, 575.3ms inference, 1.0ms postprocess per image at shape (1, 3, 640, 640)\n",
      "\n"
     ]
    },
    {
     "name": "stdout",
     "output_type": "stream",
     "text": [
      "Total Predictions: 64, Correct Predictions: 0\n",
      "Accuracy: 0.00%\n"
     ]
    },
    {
     "name": "stderr",
     "output_type": "stream",
     "text": [
      "0: 384x640 1 Hardhat, 1 NO-Hardhat, 1 NO-Mask, 1 NO-Safety Vest, 1 Person, 584.6ms\n",
      "Speed: 0.0ms pre-process, 584.6ms inference, 0.0ms postprocess per image at shape (1, 3, 640, 640)\n",
      "\n"
     ]
    },
    {
     "name": "stdout",
     "output_type": "stream",
     "text": [
      "Total Predictions: 69, Correct Predictions: 0\n",
      "Accuracy: 0.00%\n"
     ]
    },
    {
     "name": "stderr",
     "output_type": "stream",
     "text": [
      "0: 384x640 1 Hardhat, 1 NO-Hardhat, 1 NO-Mask, 1 NO-Safety Vest, 1 Person, 583.8ms\n",
      "Speed: 1.0ms pre-process, 583.8ms inference, 1.0ms postprocess per image at shape (1, 3, 640, 640)\n",
      "\n"
     ]
    },
    {
     "name": "stdout",
     "output_type": "stream",
     "text": [
      "Total Predictions: 74, Correct Predictions: 0\n",
      "Accuracy: 0.00%\n"
     ]
    },
    {
     "name": "stderr",
     "output_type": "stream",
     "text": [
      "0: 384x640 1 Hardhat, 1 NO-Hardhat, 1 NO-Mask, 1 NO-Safety Vest, 1 Person, 586.9ms\n",
      "Speed: 1.0ms pre-process, 586.9ms inference, 1.0ms postprocess per image at shape (1, 3, 640, 640)\n",
      "\n"
     ]
    },
    {
     "name": "stdout",
     "output_type": "stream",
     "text": [
      "Total Predictions: 79, Correct Predictions: 0\n",
      "Accuracy: 0.00%\n"
     ]
    },
    {
     "name": "stderr",
     "output_type": "stream",
     "text": [
      "0: 384x640 1 Hardhat, 1 NO-Hardhat, 1 NO-Mask, 1 NO-Safety Vest, 1 Person, 575.6ms\n",
      "Speed: 1.0ms pre-process, 575.6ms inference, 1.0ms postprocess per image at shape (1, 3, 640, 640)\n",
      "\n"
     ]
    },
    {
     "name": "stdout",
     "output_type": "stream",
     "text": [
      "Total Predictions: 84, Correct Predictions: 0\n",
      "Accuracy: 0.00%\n"
     ]
    },
    {
     "name": "stderr",
     "output_type": "stream",
     "text": [
      "0: 384x640 1 Hardhat, 1 NO-Mask, 1 NO-Safety Vest, 1 Person, 579.3ms\n",
      "Speed: 0.0ms pre-process, 579.3ms inference, 1.0ms postprocess per image at shape (1, 3, 640, 640)\n",
      "\n"
     ]
    },
    {
     "name": "stdout",
     "output_type": "stream",
     "text": [
      "Total Predictions: 88, Correct Predictions: 0\n",
      "Accuracy: 0.00%\n"
     ]
    },
    {
     "name": "stderr",
     "output_type": "stream",
     "text": [
      "0: 384x640 1 Hardhat, 1 NO-Hardhat, 1 NO-Mask, 1 NO-Safety Vest, 1 Person, 573.4ms\n",
      "Speed: 0.0ms pre-process, 573.4ms inference, 1.0ms postprocess per image at shape (1, 3, 640, 640)\n",
      "\n"
     ]
    },
    {
     "name": "stdout",
     "output_type": "stream",
     "text": [
      "Total Predictions: 93, Correct Predictions: 0\n",
      "Accuracy: 0.00%\n"
     ]
    },
    {
     "name": "stderr",
     "output_type": "stream",
     "text": [
      "0: 384x640 1 Hardhat, 1 NO-Hardhat, 1 NO-Mask, 1 NO-Safety Vest, 1 Person, 578.0ms\n",
      "Speed: 1.0ms pre-process, 578.0ms inference, 1.0ms postprocess per image at shape (1, 3, 640, 640)\n",
      "\n"
     ]
    },
    {
     "name": "stdout",
     "output_type": "stream",
     "text": [
      "Total Predictions: 98, Correct Predictions: 0\n",
      "Accuracy: 0.00%\n"
     ]
    },
    {
     "name": "stderr",
     "output_type": "stream",
     "text": [
      "0: 384x640 1 Hardhat, 1 NO-Hardhat, 1 NO-Mask, 1 NO-Safety Vest, 1 Person, 587.4ms\n",
      "Speed: 0.0ms pre-process, 587.4ms inference, 1.0ms postprocess per image at shape (1, 3, 640, 640)\n",
      "\n"
     ]
    },
    {
     "name": "stdout",
     "output_type": "stream",
     "text": [
      "Total Predictions: 103, Correct Predictions: 0\n",
      "Accuracy: 0.00%\n"
     ]
    },
    {
     "name": "stderr",
     "output_type": "stream",
     "text": [
      "0: 384x640 1 Hardhat, 1 NO-Mask, 1 NO-Safety Vest, 1 Person, 569.8ms\n",
      "Speed: 0.0ms pre-process, 569.8ms inference, 2.0ms postprocess per image at shape (1, 3, 640, 640)\n",
      "\n"
     ]
    },
    {
     "name": "stdout",
     "output_type": "stream",
     "text": [
      "Total Predictions: 107, Correct Predictions: 0\n",
      "Accuracy: 0.00%\n"
     ]
    },
    {
     "name": "stderr",
     "output_type": "stream",
     "text": [
      "0: 384x640 1 Hardhat, 1 NO-Hardhat, 1 NO-Mask, 1 NO-Safety Vest, 1 Person, 575.7ms\n",
      "Speed: 0.0ms pre-process, 575.7ms inference, 1.0ms postprocess per image at shape (1, 3, 640, 640)\n",
      "\n"
     ]
    },
    {
     "name": "stdout",
     "output_type": "stream",
     "text": [
      "Total Predictions: 112, Correct Predictions: 0\n",
      "Accuracy: 0.00%\n"
     ]
    },
    {
     "name": "stderr",
     "output_type": "stream",
     "text": [
      "0: 384x640 1 NO-Hardhat, 1 NO-Mask, 1 NO-Safety Vest, 1 Person, 577.3ms\n",
      "Speed: 1.0ms pre-process, 577.3ms inference, 2.0ms postprocess per image at shape (1, 3, 640, 640)\n",
      "\n"
     ]
    },
    {
     "name": "stdout",
     "output_type": "stream",
     "text": [
      "Total Predictions: 116, Correct Predictions: 0\n",
      "Accuracy: 0.00%\n"
     ]
    },
    {
     "name": "stderr",
     "output_type": "stream",
     "text": [
      "0: 384x640 1 NO-Hardhat, 1 NO-Mask, 1 NO-Safety Vest, 1 Person, 584.8ms\n",
      "Speed: 0.0ms pre-process, 584.8ms inference, 1.0ms postprocess per image at shape (1, 3, 640, 640)\n",
      "\n"
     ]
    },
    {
     "name": "stdout",
     "output_type": "stream",
     "text": [
      "Total Predictions: 120, Correct Predictions: 0\n",
      "Accuracy: 0.00%\n"
     ]
    },
    {
     "name": "stderr",
     "output_type": "stream",
     "text": [
      "0: 384x640 1 NO-Hardhat, 1 NO-Mask, 1 NO-Safety Vest, 1 Person, 586.7ms\n",
      "Speed: 0.0ms pre-process, 586.7ms inference, 1.0ms postprocess per image at shape (1, 3, 640, 640)\n",
      "\n"
     ]
    },
    {
     "name": "stdout",
     "output_type": "stream",
     "text": [
      "Total Predictions: 124, Correct Predictions: 0\n",
      "Accuracy: 0.00%\n"
     ]
    },
    {
     "name": "stderr",
     "output_type": "stream",
     "text": [
      "0: 384x640 1 Hardhat, 1 NO-Hardhat, 1 NO-Mask, 1 NO-Safety Vest, 1 Person, 575.2ms\n",
      "Speed: 0.0ms pre-process, 575.2ms inference, 1.0ms postprocess per image at shape (1, 3, 640, 640)\n",
      "\n"
     ]
    },
    {
     "name": "stdout",
     "output_type": "stream",
     "text": [
      "Total Predictions: 129, Correct Predictions: 0\n",
      "Accuracy: 0.00%\n"
     ]
    },
    {
     "name": "stderr",
     "output_type": "stream",
     "text": [
      "0: 384x640 1 Hardhat, 1 NO-Hardhat, 1 NO-Mask, 1 NO-Safety Vest, 1 Person, 585.7ms\n",
      "Speed: 0.0ms pre-process, 585.7ms inference, 1.0ms postprocess per image at shape (1, 3, 640, 640)\n",
      "\n"
     ]
    },
    {
     "name": "stdout",
     "output_type": "stream",
     "text": [
      "Total Predictions: 134, Correct Predictions: 0\n",
      "Accuracy: 0.00%\n"
     ]
    },
    {
     "name": "stderr",
     "output_type": "stream",
     "text": [
      "0: 384x640 1 NO-Hardhat, 1 NO-Mask, 1 NO-Safety Vest, 1 Person, 586.4ms\n",
      "Speed: 0.0ms pre-process, 586.4ms inference, 1.0ms postprocess per image at shape (1, 3, 640, 640)\n",
      "\n"
     ]
    },
    {
     "name": "stdout",
     "output_type": "stream",
     "text": [
      "Total Predictions: 138, Correct Predictions: 0\n",
      "Accuracy: 0.00%\n"
     ]
    },
    {
     "name": "stderr",
     "output_type": "stream",
     "text": [
      "0: 384x640 1 Hardhat, 1 NO-Mask, 1 NO-Safety Vest, 1 Person, 1 Safety Vest, 576.0ms\n",
      "Speed: 0.0ms pre-process, 576.0ms inference, 1.0ms postprocess per image at shape (1, 3, 640, 640)\n",
      "\n"
     ]
    },
    {
     "name": "stdout",
     "output_type": "stream",
     "text": [
      "Total Predictions: 143, Correct Predictions: 0\n",
      "Accuracy: 0.00%\n"
     ]
    },
    {
     "name": "stderr",
     "output_type": "stream",
     "text": [
      "0: 384x640 1 Hardhat, 1 NO-Mask, 1 NO-Safety Vest, 1 Person, 572.5ms\n",
      "Speed: 1.0ms pre-process, 572.5ms inference, 1.0ms postprocess per image at shape (1, 3, 640, 640)\n",
      "\n"
     ]
    },
    {
     "name": "stdout",
     "output_type": "stream",
     "text": [
      "Total Predictions: 147, Correct Predictions: 0\n",
      "Accuracy: 0.00%\n"
     ]
    },
    {
     "name": "stderr",
     "output_type": "stream",
     "text": [
      "0: 384x640 1 Hardhat, 1 NO-Mask, 1 NO-Safety Vest, 1 Person, 564.9ms\n",
      "Speed: 0.6ms pre-process, 564.9ms inference, 1.0ms postprocess per image at shape (1, 3, 640, 640)\n",
      "\n"
     ]
    },
    {
     "name": "stdout",
     "output_type": "stream",
     "text": [
      "Total Predictions: 151, Correct Predictions: 0\n",
      "Accuracy: 0.00%\n"
     ]
    },
    {
     "name": "stderr",
     "output_type": "stream",
     "text": [
      "0: 384x640 1 Hardhat, 1 NO-Mask, 1 NO-Safety Vest, 1 Person, 569.4ms\n",
      "Speed: 1.0ms pre-process, 569.4ms inference, 2.0ms postprocess per image at shape (1, 3, 640, 640)\n",
      "\n"
     ]
    },
    {
     "name": "stdout",
     "output_type": "stream",
     "text": [
      "Total Predictions: 155, Correct Predictions: 0\n",
      "Accuracy: 0.00%\n"
     ]
    },
    {
     "name": "stderr",
     "output_type": "stream",
     "text": [
      "0: 384x640 1 Hardhat, 1 NO-Mask, 1 NO-Safety Vest, 1 Person, 591.5ms\n",
      "Speed: 0.0ms pre-process, 591.5ms inference, 1.0ms postprocess per image at shape (1, 3, 640, 640)\n",
      "\n"
     ]
    },
    {
     "name": "stdout",
     "output_type": "stream",
     "text": [
      "Total Predictions: 159, Correct Predictions: 0\n",
      "Accuracy: 0.00%\n"
     ]
    },
    {
     "name": "stderr",
     "output_type": "stream",
     "text": [
      "0: 384x640 1 Hardhat, 1 NO-Mask, 1 NO-Safety Vest, 1 Person, 576.6ms\n",
      "Speed: 1.0ms pre-process, 576.6ms inference, 1.0ms postprocess per image at shape (1, 3, 640, 640)\n",
      "\n"
     ]
    },
    {
     "name": "stdout",
     "output_type": "stream",
     "text": [
      "Total Predictions: 163, Correct Predictions: 0\n",
      "Accuracy: 0.00%\n"
     ]
    },
    {
     "name": "stderr",
     "output_type": "stream",
     "text": [
      "0: 384x640 1 Hardhat, 1 NO-Mask, 1 NO-Safety Vest, 1 Person, 568.3ms\n",
      "Speed: 1.0ms pre-process, 568.3ms inference, 1.0ms postprocess per image at shape (1, 3, 640, 640)\n",
      "\n"
     ]
    },
    {
     "name": "stdout",
     "output_type": "stream",
     "text": [
      "Total Predictions: 167, Correct Predictions: 0\n",
      "Accuracy: 0.00%\n"
     ]
    },
    {
     "name": "stderr",
     "output_type": "stream",
     "text": [
      "0: 384x640 1 Hardhat, 1 NO-Mask, 2 NO-Safety Vests, 1 Person, 568.6ms\n",
      "Speed: 1.0ms pre-process, 568.6ms inference, 1.0ms postprocess per image at shape (1, 3, 640, 640)\n",
      "\n"
     ]
    },
    {
     "name": "stdout",
     "output_type": "stream",
     "text": [
      "Total Predictions: 172, Correct Predictions: 0\n",
      "Accuracy: 0.00%\n"
     ]
    },
    {
     "name": "stderr",
     "output_type": "stream",
     "text": [
      "0: 384x640 1 Hardhat, 1 NO-Mask, 1 NO-Safety Vest, 1 Person, 565.3ms\n",
      "Speed: 0.0ms pre-process, 565.3ms inference, 1.0ms postprocess per image at shape (1, 3, 640, 640)\n",
      "\n"
     ]
    },
    {
     "name": "stdout",
     "output_type": "stream",
     "text": [
      "Total Predictions: 176, Correct Predictions: 0\n",
      "Accuracy: 0.00%\n"
     ]
    },
    {
     "name": "stderr",
     "output_type": "stream",
     "text": [
      "0: 384x640 1 Hardhat, 1 NO-Mask, 1 NO-Safety Vest, 1 Person, 578.2ms\n",
      "Speed: 1.0ms pre-process, 578.2ms inference, 1.0ms postprocess per image at shape (1, 3, 640, 640)\n",
      "\n"
     ]
    },
    {
     "name": "stdout",
     "output_type": "stream",
     "text": [
      "Total Predictions: 180, Correct Predictions: 0\n",
      "Accuracy: 0.00%\n"
     ]
    },
    {
     "name": "stderr",
     "output_type": "stream",
     "text": [
      "0: 384x640 1 Hardhat, 1 NO-Mask, 1 NO-Safety Vest, 1 Person, 575.2ms\n",
      "Speed: 1.0ms pre-process, 575.2ms inference, 1.0ms postprocess per image at shape (1, 3, 640, 640)\n",
      "\n"
     ]
    },
    {
     "name": "stdout",
     "output_type": "stream",
     "text": [
      "Total Predictions: 184, Correct Predictions: 0\n",
      "Accuracy: 0.00%\n"
     ]
    },
    {
     "name": "stderr",
     "output_type": "stream",
     "text": [
      "0: 384x640 1 Hardhat, 1 NO-Mask, 1 NO-Safety Vest, 1 Person, 569.8ms\n",
      "Speed: 0.0ms pre-process, 569.8ms inference, 1.0ms postprocess per image at shape (1, 3, 640, 640)\n",
      "\n"
     ]
    },
    {
     "name": "stdout",
     "output_type": "stream",
     "text": [
      "Total Predictions: 188, Correct Predictions: 0\n",
      "Accuracy: 0.00%\n"
     ]
    },
    {
     "name": "stderr",
     "output_type": "stream",
     "text": [
      "0: 384x640 1 Hardhat, 1 NO-Mask, 1 NO-Safety Vest, 1 Person, 577.8ms\n",
      "Speed: 0.0ms pre-process, 577.8ms inference, 1.5ms postprocess per image at shape (1, 3, 640, 640)\n",
      "\n"
     ]
    },
    {
     "name": "stdout",
     "output_type": "stream",
     "text": [
      "Total Predictions: 192, Correct Predictions: 0\n",
      "Accuracy: 0.00%\n"
     ]
    },
    {
     "name": "stderr",
     "output_type": "stream",
     "text": [
      "0: 384x640 1 Hardhat, 1 NO-Mask, 1 NO-Safety Vest, 1 Person, 570.5ms\n",
      "Speed: 0.0ms pre-process, 570.5ms inference, 2.0ms postprocess per image at shape (1, 3, 640, 640)\n",
      "\n"
     ]
    },
    {
     "name": "stdout",
     "output_type": "stream",
     "text": [
      "Total Predictions: 196, Correct Predictions: 0\n",
      "Accuracy: 0.00%\n"
     ]
    },
    {
     "name": "stderr",
     "output_type": "stream",
     "text": [
      "0: 384x640 1 Hardhat, 1 NO-Hardhat, 2 NO-Safety Vests, 1 Person, 584.2ms\n",
      "Speed: 0.0ms pre-process, 584.2ms inference, 2.0ms postprocess per image at shape (1, 3, 640, 640)\n",
      "\n"
     ]
    },
    {
     "name": "stdout",
     "output_type": "stream",
     "text": [
      "Total Predictions: 201, Correct Predictions: 0\n",
      "Accuracy: 0.00%\n"
     ]
    },
    {
     "name": "stderr",
     "output_type": "stream",
     "text": [
      "0: 384x640 1 Hardhat, 1 NO-Mask, 2 NO-Safety Vests, 1 Person, 571.4ms\n",
      "Speed: 1.0ms pre-process, 571.4ms inference, 2.0ms postprocess per image at shape (1, 3, 640, 640)\n",
      "\n"
     ]
    },
    {
     "name": "stdout",
     "output_type": "stream",
     "text": [
      "Total Predictions: 206, Correct Predictions: 0\n",
      "Accuracy: 0.00%\n"
     ]
    },
    {
     "name": "stderr",
     "output_type": "stream",
     "text": [
      "0: 384x640 1 Hardhat, 1 NO-Mask, 2 NO-Safety Vests, 1 Person, 571.1ms\n",
      "Speed: 0.0ms pre-process, 571.1ms inference, 1.0ms postprocess per image at shape (1, 3, 640, 640)\n",
      "\n"
     ]
    },
    {
     "name": "stdout",
     "output_type": "stream",
     "text": [
      "Total Predictions: 211, Correct Predictions: 0\n",
      "Accuracy: 0.00%\n"
     ]
    },
    {
     "name": "stderr",
     "output_type": "stream",
     "text": [
      "0: 384x640 1 Hardhat, 2 NO-Safety Vests, 1 Person, 565.9ms\n",
      "Speed: 0.0ms pre-process, 565.9ms inference, 1.0ms postprocess per image at shape (1, 3, 640, 640)\n",
      "\n"
     ]
    },
    {
     "name": "stdout",
     "output_type": "stream",
     "text": [
      "Total Predictions: 215, Correct Predictions: 0\n",
      "Accuracy: 0.00%\n"
     ]
    },
    {
     "name": "stderr",
     "output_type": "stream",
     "text": [
      "0: 384x640 1 Hardhat, 1 NO-Hardhat, 2 NO-Safety Vests, 1 Person, 581.2ms\n",
      "Speed: 1.0ms pre-process, 581.2ms inference, 2.0ms postprocess per image at shape (1, 3, 640, 640)\n",
      "\n"
     ]
    },
    {
     "name": "stdout",
     "output_type": "stream",
     "text": [
      "Total Predictions: 220, Correct Predictions: 0\n",
      "Accuracy: 0.00%\n"
     ]
    },
    {
     "name": "stderr",
     "output_type": "stream",
     "text": [
      "0: 384x640 1 NO-Hardhat, 2 NO-Safety Vests, 1 Person, 598.1ms\n",
      "Speed: 0.0ms pre-process, 598.1ms inference, 1.0ms postprocess per image at shape (1, 3, 640, 640)\n",
      "\n"
     ]
    },
    {
     "name": "stdout",
     "output_type": "stream",
     "text": [
      "Total Predictions: 224, Correct Predictions: 0\n",
      "Accuracy: 0.00%\n"
     ]
    },
    {
     "name": "stderr",
     "output_type": "stream",
     "text": [
      "0: 384x640 1 Hardhat, 1 NO-Hardhat, 1 NO-Mask, 2 NO-Safety Vests, 1 Person, 581.0ms\n",
      "Speed: 1.0ms pre-process, 581.0ms inference, 1.0ms postprocess per image at shape (1, 3, 640, 640)\n",
      "\n"
     ]
    },
    {
     "name": "stdout",
     "output_type": "stream",
     "text": [
      "Total Predictions: 230, Correct Predictions: 0\n",
      "Accuracy: 0.00%\n"
     ]
    },
    {
     "name": "stderr",
     "output_type": "stream",
     "text": [
      "0: 384x640 1 NO-Hardhat, 2 NO-Safety Vests, 1 Person, 577.6ms\n",
      "Speed: 1.0ms pre-process, 577.6ms inference, 1.0ms postprocess per image at shape (1, 3, 640, 640)\n",
      "\n"
     ]
    },
    {
     "name": "stdout",
     "output_type": "stream",
     "text": [
      "Total Predictions: 234, Correct Predictions: 0\n",
      "Accuracy: 0.00%\n"
     ]
    },
    {
     "name": "stderr",
     "output_type": "stream",
     "text": [
      "0: 384x640 1 NO-Hardhat, 2 NO-Safety Vests, 1 Person, 585.6ms\n",
      "Speed: 0.0ms pre-process, 585.6ms inference, 2.0ms postprocess per image at shape (1, 3, 640, 640)\n",
      "\n"
     ]
    },
    {
     "name": "stdout",
     "output_type": "stream",
     "text": [
      "Total Predictions: 238, Correct Predictions: 0\n",
      "Accuracy: 0.00%\n"
     ]
    },
    {
     "name": "stderr",
     "output_type": "stream",
     "text": [
      "0: 384x640 1 NO-Hardhat, 2 NO-Safety Vests, 1 Person, 606.8ms\n",
      "Speed: 1.0ms pre-process, 606.8ms inference, 1.0ms postprocess per image at shape (1, 3, 640, 640)\n",
      "\n"
     ]
    },
    {
     "name": "stdout",
     "output_type": "stream",
     "text": [
      "Total Predictions: 242, Correct Predictions: 0\n",
      "Accuracy: 0.00%\n"
     ]
    },
    {
     "name": "stderr",
     "output_type": "stream",
     "text": [
      "0: 384x640 1 NO-Hardhat, 2 NO-Safety Vests, 1 Person, 585.1ms\n",
      "Speed: 0.0ms pre-process, 585.1ms inference, 1.0ms postprocess per image at shape (1, 3, 640, 640)\n",
      "\n"
     ]
    },
    {
     "name": "stdout",
     "output_type": "stream",
     "text": [
      "Total Predictions: 246, Correct Predictions: 0\n",
      "Accuracy: 0.00%\n"
     ]
    },
    {
     "name": "stderr",
     "output_type": "stream",
     "text": [
      "0: 384x640 1 NO-Hardhat, 1 NO-Safety Vest, 1 Person, 590.3ms\n",
      "Speed: 1.0ms pre-process, 590.3ms inference, 2.0ms postprocess per image at shape (1, 3, 640, 640)\n",
      "\n"
     ]
    },
    {
     "name": "stdout",
     "output_type": "stream",
     "text": [
      "Total Predictions: 249, Correct Predictions: 0\n",
      "Accuracy: 0.00%\n"
     ]
    },
    {
     "name": "stderr",
     "output_type": "stream",
     "text": [
      "0: 384x640 1 NO-Hardhat, 2 NO-Safety Vests, 1 Person, 590.3ms\n",
      "Speed: 0.0ms pre-process, 590.3ms inference, 1.0ms postprocess per image at shape (1, 3, 640, 640)\n",
      "\n"
     ]
    },
    {
     "name": "stdout",
     "output_type": "stream",
     "text": [
      "Total Predictions: 253, Correct Predictions: 0\n",
      "Accuracy: 0.00%\n"
     ]
    },
    {
     "name": "stderr",
     "output_type": "stream",
     "text": [
      "0: 384x640 1 NO-Hardhat, 2 NO-Safety Vests, 1 Person, 576.8ms\n",
      "Speed: 0.0ms pre-process, 576.8ms inference, 1.0ms postprocess per image at shape (1, 3, 640, 640)\n",
      "\n"
     ]
    },
    {
     "name": "stdout",
     "output_type": "stream",
     "text": [
      "Total Predictions: 257, Correct Predictions: 0\n",
      "Accuracy: 0.00%\n"
     ]
    },
    {
     "name": "stderr",
     "output_type": "stream",
     "text": [
      "0: 384x640 1 NO-Hardhat, 1 NO-Mask, 2 NO-Safety Vests, 1 Person, 577.6ms\n",
      "Speed: 0.0ms pre-process, 577.6ms inference, 1.0ms postprocess per image at shape (1, 3, 640, 640)\n",
      "\n"
     ]
    },
    {
     "name": "stdout",
     "output_type": "stream",
     "text": [
      "Total Predictions: 262, Correct Predictions: 0\n",
      "Accuracy: 0.00%\n"
     ]
    },
    {
     "name": "stderr",
     "output_type": "stream",
     "text": [
      "0: 384x640 1 NO-Hardhat, 1 NO-Mask, 2 NO-Safety Vests, 1 Person, 573.8ms\n",
      "Speed: 1.0ms pre-process, 573.8ms inference, 1.0ms postprocess per image at shape (1, 3, 640, 640)\n",
      "\n"
     ]
    },
    {
     "name": "stdout",
     "output_type": "stream",
     "text": [
      "Total Predictions: 267, Correct Predictions: 0\n",
      "Accuracy: 0.00%\n"
     ]
    },
    {
     "name": "stderr",
     "output_type": "stream",
     "text": [
      "0: 384x640 1 NO-Hardhat, 1 NO-Safety Vest, 1 Person, 571.1ms\n",
      "Speed: 1.0ms pre-process, 571.1ms inference, 2.0ms postprocess per image at shape (1, 3, 640, 640)\n",
      "\n"
     ]
    },
    {
     "name": "stdout",
     "output_type": "stream",
     "text": [
      "Total Predictions: 270, Correct Predictions: 0\n",
      "Accuracy: 0.00%\n"
     ]
    },
    {
     "name": "stderr",
     "output_type": "stream",
     "text": [
      "0: 384x640 1 NO-Hardhat, 1 NO-Mask, 1 NO-Safety Vest, 1 Person, 587.2ms\n",
      "Speed: 0.0ms pre-process, 587.2ms inference, 1.0ms postprocess per image at shape (1, 3, 640, 640)\n",
      "\n"
     ]
    },
    {
     "name": "stdout",
     "output_type": "stream",
     "text": [
      "Total Predictions: 274, Correct Predictions: 0\n",
      "Accuracy: 0.00%\n"
     ]
    },
    {
     "name": "stderr",
     "output_type": "stream",
     "text": [
      "0: 384x640 1 NO-Hardhat, 1 NO-Mask, 1 NO-Safety Vest, 1 Person, 568.6ms\n",
      "Speed: 0.0ms pre-process, 568.6ms inference, 1.0ms postprocess per image at shape (1, 3, 640, 640)\n",
      "\n"
     ]
    },
    {
     "name": "stdout",
     "output_type": "stream",
     "text": [
      "Total Predictions: 278, Correct Predictions: 0\n",
      "Accuracy: 0.00%\n"
     ]
    },
    {
     "name": "stderr",
     "output_type": "stream",
     "text": [
      "0: 384x640 1 NO-Hardhat, 1 NO-Mask, 2 NO-Safety Vests, 1 Person, 567.4ms\n",
      "Speed: 0.0ms pre-process, 567.4ms inference, 1.0ms postprocess per image at shape (1, 3, 640, 640)\n",
      "\n"
     ]
    },
    {
     "name": "stdout",
     "output_type": "stream",
     "text": [
      "Total Predictions: 283, Correct Predictions: 0\n",
      "Accuracy: 0.00%\n"
     ]
    },
    {
     "name": "stderr",
     "output_type": "stream",
     "text": [
      "0: 384x640 1 NO-Hardhat, 1 NO-Mask, 1 NO-Safety Vest, 1 Person, 572.3ms\n",
      "Speed: 0.0ms pre-process, 572.3ms inference, 2.0ms postprocess per image at shape (1, 3, 640, 640)\n",
      "\n"
     ]
    },
    {
     "name": "stdout",
     "output_type": "stream",
     "text": [
      "Total Predictions: 287, Correct Predictions: 0\n",
      "Accuracy: 0.00%\n"
     ]
    },
    {
     "name": "stderr",
     "output_type": "stream",
     "text": [
      "0: 384x640 1 NO-Hardhat, 1 NO-Mask, 1 Person, 570.3ms\n",
      "Speed: 1.0ms pre-process, 570.3ms inference, 1.0ms postprocess per image at shape (1, 3, 640, 640)\n",
      "\n"
     ]
    },
    {
     "name": "stdout",
     "output_type": "stream",
     "text": [
      "Total Predictions: 290, Correct Predictions: 0\n",
      "Accuracy: 0.00%\n"
     ]
    },
    {
     "name": "stderr",
     "output_type": "stream",
     "text": [
      "0: 384x640 1 NO-Hardhat, 1 NO-Mask, 1 NO-Safety Vest, 1 Person, 571.7ms\n",
      "Speed: 1.0ms pre-process, 571.7ms inference, 1.0ms postprocess per image at shape (1, 3, 640, 640)\n",
      "\n"
     ]
    },
    {
     "name": "stdout",
     "output_type": "stream",
     "text": [
      "Total Predictions: 294, Correct Predictions: 0\n",
      "Accuracy: 0.00%\n"
     ]
    },
    {
     "name": "stderr",
     "output_type": "stream",
     "text": [
      "0: 384x640 1 NO-Hardhat, 1 NO-Mask, 1 Person, 571.1ms\n",
      "Speed: 1.0ms pre-process, 571.1ms inference, 1.0ms postprocess per image at shape (1, 3, 640, 640)\n",
      "\n"
     ]
    },
    {
     "name": "stdout",
     "output_type": "stream",
     "text": [
      "Total Predictions: 297, Correct Predictions: 0\n",
      "Accuracy: 0.00%\n"
     ]
    },
    {
     "name": "stderr",
     "output_type": "stream",
     "text": [
      "0: 384x640 1 NO-Hardhat, 1 NO-Mask, 1 NO-Safety Vest, 1 Person, 571.0ms\n",
      "Speed: 0.0ms pre-process, 571.0ms inference, 1.0ms postprocess per image at shape (1, 3, 640, 640)\n",
      "\n"
     ]
    },
    {
     "name": "stdout",
     "output_type": "stream",
     "text": [
      "Total Predictions: 301, Correct Predictions: 0\n",
      "Accuracy: 0.00%\n"
     ]
    },
    {
     "name": "stderr",
     "output_type": "stream",
     "text": [
      "0: 384x640 1 NO-Hardhat, 1 NO-Mask, 1 Person, 569.5ms\n",
      "Speed: 1.0ms pre-process, 569.5ms inference, 1.0ms postprocess per image at shape (1, 3, 640, 640)\n",
      "\n"
     ]
    },
    {
     "name": "stdout",
     "output_type": "stream",
     "text": [
      "Total Predictions: 304, Correct Predictions: 0\n",
      "Accuracy: 0.00%\n"
     ]
    },
    {
     "name": "stderr",
     "output_type": "stream",
     "text": [
      "0: 384x640 1 NO-Hardhat, 1 NO-Mask, 1 Person, 570.2ms\n",
      "Speed: 0.0ms pre-process, 570.2ms inference, 1.0ms postprocess per image at shape (1, 3, 640, 640)\n",
      "\n"
     ]
    },
    {
     "name": "stdout",
     "output_type": "stream",
     "text": [
      "Total Predictions: 307, Correct Predictions: 0\n",
      "Accuracy: 0.00%\n"
     ]
    },
    {
     "name": "stderr",
     "output_type": "stream",
     "text": [
      "0: 384x640 1 NO-Hardhat, 2 NO-Safety Vests, 1 Person, 574.3ms\n",
      "Speed: 0.0ms pre-process, 574.3ms inference, 1.0ms postprocess per image at shape (1, 3, 640, 640)\n",
      "\n"
     ]
    },
    {
     "name": "stdout",
     "output_type": "stream",
     "text": [
      "Total Predictions: 311, Correct Predictions: 0\n",
      "Accuracy: 0.00%\n"
     ]
    },
    {
     "name": "stderr",
     "output_type": "stream",
     "text": [
      "0: 384x640 1 NO-Hardhat, 1 NO-Mask, 2 NO-Safety Vests, 1 Person, 585.4ms\n",
      "Speed: 0.0ms pre-process, 585.4ms inference, 2.0ms postprocess per image at shape (1, 3, 640, 640)\n",
      "\n"
     ]
    },
    {
     "name": "stdout",
     "output_type": "stream",
     "text": [
      "Total Predictions: 316, Correct Predictions: 0\n",
      "Accuracy: 0.00%\n"
     ]
    },
    {
     "name": "stderr",
     "output_type": "stream",
     "text": [
      "0: 384x640 1 NO-Hardhat, 1 NO-Mask, 2 NO-Safety Vests, 1 Person, 597.2ms\n",
      "Speed: 0.0ms pre-process, 597.2ms inference, 2.0ms postprocess per image at shape (1, 3, 640, 640)\n",
      "\n"
     ]
    },
    {
     "name": "stdout",
     "output_type": "stream",
     "text": [
      "Total Predictions: 321, Correct Predictions: 0\n",
      "Accuracy: 0.00%\n"
     ]
    },
    {
     "name": "stderr",
     "output_type": "stream",
     "text": [
      "0: 384x640 1 NO-Hardhat, 1 NO-Mask, 2 NO-Safety Vests, 1 Person, 603.9ms\n",
      "Speed: 1.0ms pre-process, 603.9ms inference, 2.0ms postprocess per image at shape (1, 3, 640, 640)\n",
      "\n"
     ]
    },
    {
     "name": "stdout",
     "output_type": "stream",
     "text": [
      "Total Predictions: 326, Correct Predictions: 0\n",
      "Accuracy: 0.00%\n"
     ]
    },
    {
     "name": "stderr",
     "output_type": "stream",
     "text": [
      "0: 384x640 1 NO-Hardhat, 2 NO-Safety Vests, 1 Person, 592.3ms\n",
      "Speed: 0.0ms pre-process, 592.3ms inference, 1.0ms postprocess per image at shape (1, 3, 640, 640)\n",
      "\n"
     ]
    },
    {
     "name": "stdout",
     "output_type": "stream",
     "text": [
      "Total Predictions: 330, Correct Predictions: 0\n",
      "Accuracy: 0.00%\n"
     ]
    },
    {
     "name": "stderr",
     "output_type": "stream",
     "text": [
      "0: 384x640 1 NO-Hardhat, 2 NO-Safety Vests, 1 Person, 578.3ms\n",
      "Speed: 1.0ms pre-process, 578.3ms inference, 1.0ms postprocess per image at shape (1, 3, 640, 640)\n",
      "\n"
     ]
    },
    {
     "name": "stdout",
     "output_type": "stream",
     "text": [
      "Total Predictions: 334, Correct Predictions: 0\n",
      "Accuracy: 0.00%\n"
     ]
    },
    {
     "name": "stderr",
     "output_type": "stream",
     "text": [
      "0: 384x640 1 NO-Hardhat, 2 NO-Safety Vests, 1 Person, 578.1ms\n",
      "Speed: 1.0ms pre-process, 578.1ms inference, 1.0ms postprocess per image at shape (1, 3, 640, 640)\n",
      "\n"
     ]
    },
    {
     "name": "stdout",
     "output_type": "stream",
     "text": [
      "Total Predictions: 338, Correct Predictions: 0\n",
      "Accuracy: 0.00%\n"
     ]
    },
    {
     "name": "stderr",
     "output_type": "stream",
     "text": [
      "0: 384x640 1 NO-Hardhat, 2 NO-Safety Vests, 1 Person, 577.4ms\n",
      "Speed: 0.4ms pre-process, 577.4ms inference, 1.0ms postprocess per image at shape (1, 3, 640, 640)\n",
      "\n"
     ]
    },
    {
     "name": "stdout",
     "output_type": "stream",
     "text": [
      "Total Predictions: 342, Correct Predictions: 0\n",
      "Accuracy: 0.00%\n"
     ]
    },
    {
     "name": "stderr",
     "output_type": "stream",
     "text": [
      "0: 384x640 1 NO-Hardhat, 2 NO-Safety Vests, 1 Person, 574.2ms\n",
      "Speed: 1.0ms pre-process, 574.2ms inference, 2.0ms postprocess per image at shape (1, 3, 640, 640)\n",
      "\n"
     ]
    },
    {
     "name": "stdout",
     "output_type": "stream",
     "text": [
      "Total Predictions: 346, Correct Predictions: 0\n",
      "Accuracy: 0.00%\n"
     ]
    },
    {
     "name": "stderr",
     "output_type": "stream",
     "text": [
      "0: 384x640 1 NO-Hardhat, 1 NO-Mask, 2 NO-Safety Vests, 2 Persons, 587.2ms\n",
      "Speed: 0.0ms pre-process, 587.2ms inference, 1.0ms postprocess per image at shape (1, 3, 640, 640)\n",
      "\n"
     ]
    },
    {
     "name": "stdout",
     "output_type": "stream",
     "text": [
      "Total Predictions: 352, Correct Predictions: 0\n",
      "Accuracy: 0.00%\n"
     ]
    },
    {
     "name": "stderr",
     "output_type": "stream",
     "text": [
      "0: 384x640 1 NO-Hardhat, 1 NO-Mask, 2 NO-Safety Vests, 2 Persons, 585.6ms\n",
      "Speed: 1.0ms pre-process, 585.6ms inference, 1.0ms postprocess per image at shape (1, 3, 640, 640)\n",
      "\n"
     ]
    },
    {
     "name": "stdout",
     "output_type": "stream",
     "text": [
      "Total Predictions: 358, Correct Predictions: 0\n",
      "Accuracy: 0.00%\n"
     ]
    },
    {
     "name": "stderr",
     "output_type": "stream",
     "text": [
      "0: 384x640 1 NO-Hardhat, 1 NO-Mask, 2 NO-Safety Vests, 2 Persons, 581.2ms\n",
      "Speed: 1.0ms pre-process, 581.2ms inference, 1.0ms postprocess per image at shape (1, 3, 640, 640)\n",
      "\n"
     ]
    },
    {
     "name": "stdout",
     "output_type": "stream",
     "text": [
      "Total Predictions: 364, Correct Predictions: 0\n",
      "Accuracy: 0.00%\n"
     ]
    },
    {
     "name": "stderr",
     "output_type": "stream",
     "text": [
      "0: 384x640 1 NO-Hardhat, 2 NO-Safety Vests, 2 Persons, 584.9ms\n",
      "Speed: 0.0ms pre-process, 584.9ms inference, 1.0ms postprocess per image at shape (1, 3, 640, 640)\n",
      "\n"
     ]
    },
    {
     "name": "stdout",
     "output_type": "stream",
     "text": [
      "Total Predictions: 369, Correct Predictions: 0\n",
      "Accuracy: 0.00%\n"
     ]
    },
    {
     "name": "stderr",
     "output_type": "stream",
     "text": [
      "0: 384x640 1 NO-Hardhat, 2 NO-Safety Vests, 2 Persons, 1 Safety Vest, 596.7ms\n",
      "Speed: 1.0ms pre-process, 596.7ms inference, 1.0ms postprocess per image at shape (1, 3, 640, 640)\n",
      "\n"
     ]
    },
    {
     "name": "stdout",
     "output_type": "stream",
     "text": [
      "Total Predictions: 375, Correct Predictions: 0\n",
      "Accuracy: 0.00%\n"
     ]
    },
    {
     "name": "stderr",
     "output_type": "stream",
     "text": [
      "0: 384x640 1 NO-Hardhat, 1 NO-Mask, 1 NO-Safety Vest, 2 Persons, 604.3ms\n",
      "Speed: 0.0ms pre-process, 604.3ms inference, 1.0ms postprocess per image at shape (1, 3, 640, 640)\n",
      "\n"
     ]
    },
    {
     "name": "stdout",
     "output_type": "stream",
     "text": [
      "Total Predictions: 380, Correct Predictions: 0\n",
      "Accuracy: 0.00%\n"
     ]
    },
    {
     "name": "stderr",
     "output_type": "stream",
     "text": [
      "0: 384x640 1 Hardhat, 1 NO-Hardhat, 1 NO-Mask, 2 NO-Safety Vests, 2 Persons, 634.3ms\n",
      "Speed: 1.0ms pre-process, 634.3ms inference, 1.5ms postprocess per image at shape (1, 3, 640, 640)\n",
      "\n"
     ]
    },
    {
     "name": "stdout",
     "output_type": "stream",
     "text": [
      "Total Predictions: 387, Correct Predictions: 0\n",
      "Accuracy: 0.00%\n"
     ]
    },
    {
     "name": "stderr",
     "output_type": "stream",
     "text": [
      "0: 384x640 1 NO-Hardhat, 2 NO-Safety Vests, 2 Persons, 620.2ms\n",
      "Speed: 1.0ms pre-process, 620.2ms inference, 1.0ms postprocess per image at shape (1, 3, 640, 640)\n",
      "\n"
     ]
    },
    {
     "name": "stdout",
     "output_type": "stream",
     "text": [
      "Total Predictions: 392, Correct Predictions: 0\n",
      "Accuracy: 0.00%\n"
     ]
    },
    {
     "name": "stderr",
     "output_type": "stream",
     "text": [
      "0: 384x640 1 NO-Hardhat, 2 NO-Safety Vests, 2 Persons, 1 Safety Vest, 598.0ms\n",
      "Speed: 0.0ms pre-process, 598.0ms inference, 1.0ms postprocess per image at shape (1, 3, 640, 640)\n",
      "\n"
     ]
    },
    {
     "name": "stdout",
     "output_type": "stream",
     "text": [
      "Total Predictions: 398, Correct Predictions: 0\n",
      "Accuracy: 0.00%\n"
     ]
    },
    {
     "name": "stderr",
     "output_type": "stream",
     "text": [
      "0: 384x640 1 NO-Hardhat, 1 NO-Mask, 2 NO-Safety Vests, 2 Persons, 567.7ms\n",
      "Speed: 1.0ms pre-process, 567.7ms inference, 1.0ms postprocess per image at shape (1, 3, 640, 640)\n",
      "\n"
     ]
    },
    {
     "name": "stdout",
     "output_type": "stream",
     "text": [
      "Total Predictions: 404, Correct Predictions: 0\n",
      "Accuracy: 0.00%\n"
     ]
    },
    {
     "name": "stderr",
     "output_type": "stream",
     "text": [
      "0: 384x640 1 NO-Hardhat, 2 NO-Safety Vests, 2 Persons, 586.2ms\n",
      "Speed: 1.0ms pre-process, 586.2ms inference, 1.0ms postprocess per image at shape (1, 3, 640, 640)\n",
      "\n"
     ]
    },
    {
     "name": "stdout",
     "output_type": "stream",
     "text": [
      "Total Predictions: 409, Correct Predictions: 0\n",
      "Accuracy: 0.00%\n"
     ]
    },
    {
     "name": "stderr",
     "output_type": "stream",
     "text": [
      "0: 384x640 1 NO-Hardhat, 2 NO-Safety Vests, 3 Persons, 1 Safety Vest, 594.5ms\n",
      "Speed: 0.0ms pre-process, 594.5ms inference, 2.0ms postprocess per image at shape (1, 3, 640, 640)\n",
      "\n"
     ]
    },
    {
     "name": "stdout",
     "output_type": "stream",
     "text": [
      "Total Predictions: 416, Correct Predictions: 0\n",
      "Accuracy: 0.00%\n"
     ]
    },
    {
     "name": "stderr",
     "output_type": "stream",
     "text": [
      "0: 384x640 1 NO-Hardhat, 2 NO-Safety Vests, 2 Persons, 612.3ms\n",
      "Speed: 1.0ms pre-process, 612.3ms inference, 1.0ms postprocess per image at shape (1, 3, 640, 640)\n",
      "\n"
     ]
    },
    {
     "name": "stdout",
     "output_type": "stream",
     "text": [
      "Total Predictions: 421, Correct Predictions: 0\n",
      "Accuracy: 0.00%\n"
     ]
    },
    {
     "name": "stderr",
     "output_type": "stream",
     "text": [
      "0: 384x640 1 NO-Hardhat, 2 NO-Safety Vests, 2 Persons, 612.5ms\n",
      "Speed: 0.0ms pre-process, 612.5ms inference, 1.0ms postprocess per image at shape (1, 3, 640, 640)\n",
      "\n"
     ]
    },
    {
     "name": "stdout",
     "output_type": "stream",
     "text": [
      "Total Predictions: 426, Correct Predictions: 0\n",
      "Accuracy: 0.00%\n"
     ]
    },
    {
     "name": "stderr",
     "output_type": "stream",
     "text": [
      "0: 384x640 1 NO-Hardhat, 1 NO-Mask, 2 NO-Safety Vests, 2 Persons, 2 Safety Vests, 597.7ms\n",
      "Speed: 0.0ms pre-process, 597.7ms inference, 1.0ms postprocess per image at shape (1, 3, 640, 640)\n",
      "\n"
     ]
    },
    {
     "name": "stdout",
     "output_type": "stream",
     "text": [
      "Total Predictions: 434, Correct Predictions: 0\n",
      "Accuracy: 0.00%\n"
     ]
    },
    {
     "name": "stderr",
     "output_type": "stream",
     "text": [
      "0: 384x640 1 NO-Hardhat, 2 NO-Safety Vests, 2 Persons, 575.2ms\n",
      "Speed: 0.0ms pre-process, 575.2ms inference, 2.0ms postprocess per image at shape (1, 3, 640, 640)\n",
      "\n"
     ]
    },
    {
     "name": "stdout",
     "output_type": "stream",
     "text": [
      "Total Predictions: 439, Correct Predictions: 0\n",
      "Accuracy: 0.00%\n"
     ]
    },
    {
     "name": "stderr",
     "output_type": "stream",
     "text": [
      "0: 384x640 1 NO-Hardhat, 1 NO-Mask, 1 NO-Safety Vest, 2 Persons, 2 Safety Vests, 580.3ms\n",
      "Speed: 0.0ms pre-process, 580.3ms inference, 1.0ms postprocess per image at shape (1, 3, 640, 640)\n",
      "\n"
     ]
    },
    {
     "name": "stdout",
     "output_type": "stream",
     "text": [
      "Total Predictions: 446, Correct Predictions: 0\n",
      "Accuracy: 0.00%\n"
     ]
    },
    {
     "name": "stderr",
     "output_type": "stream",
     "text": [
      "0: 384x640 1 NO-Hardhat, 1 NO-Mask, 2 NO-Safety Vests, 2 Persons, 594.5ms\n",
      "Speed: 0.0ms pre-process, 594.5ms inference, 1.0ms postprocess per image at shape (1, 3, 640, 640)\n",
      "\n"
     ]
    },
    {
     "name": "stdout",
     "output_type": "stream",
     "text": [
      "Total Predictions: 452, Correct Predictions: 0\n",
      "Accuracy: 0.00%\n"
     ]
    },
    {
     "name": "stderr",
     "output_type": "stream",
     "text": [
      "0: 384x640 1 Hardhat, 1 NO-Hardhat, 1 NO-Safety Vest, 2 Persons, 1 Safety Vest, 579.3ms\n",
      "Speed: 0.0ms pre-process, 579.3ms inference, 2.0ms postprocess per image at shape (1, 3, 640, 640)\n",
      "\n"
     ]
    },
    {
     "name": "stdout",
     "output_type": "stream",
     "text": [
      "Total Predictions: 458, Correct Predictions: 0\n",
      "Accuracy: 0.00%\n"
     ]
    },
    {
     "name": "stderr",
     "output_type": "stream",
     "text": [
      "0: 384x640 1 NO-Hardhat, 1 NO-Mask, 2 NO-Safety Vests, 1 Person, 598.6ms\n",
      "Speed: 0.0ms pre-process, 598.6ms inference, 1.0ms postprocess per image at shape (1, 3, 640, 640)\n",
      "\n"
     ]
    },
    {
     "name": "stdout",
     "output_type": "stream",
     "text": [
      "Total Predictions: 463, Correct Predictions: 0\n",
      "Accuracy: 0.00%\n"
     ]
    },
    {
     "name": "stderr",
     "output_type": "stream",
     "text": [
      "0: 384x640 1 Hardhat, 1 NO-Hardhat, 1 NO-Mask, 1 NO-Safety Vest, 2 Persons, 574.5ms\n",
      "Speed: 1.0ms pre-process, 574.5ms inference, 2.0ms postprocess per image at shape (1, 3, 640, 640)\n",
      "\n"
     ]
    },
    {
     "name": "stdout",
     "output_type": "stream",
     "text": [
      "Total Predictions: 469, Correct Predictions: 0\n",
      "Accuracy: 0.00%\n"
     ]
    },
    {
     "name": "stderr",
     "output_type": "stream",
     "text": [
      "0: 384x640 1 Hardhat, 1 NO-Hardhat, 3 NO-Masks, 2 NO-Safety Vests, 3 Persons, 573.9ms\n",
      "Speed: 0.0ms pre-process, 573.9ms inference, 1.0ms postprocess per image at shape (1, 3, 640, 640)\n",
      "\n"
     ]
    },
    {
     "name": "stdout",
     "output_type": "stream",
     "text": [
      "Total Predictions: 479, Correct Predictions: 0\n",
      "Accuracy: 0.00%\n"
     ]
    },
    {
     "name": "stderr",
     "output_type": "stream",
     "text": [
      "0: 384x640 1 NO-Hardhat, 1 NO-Mask, 2 NO-Safety Vests, 2 Persons, 582.0ms\n",
      "Speed: 1.0ms pre-process, 582.0ms inference, 2.0ms postprocess per image at shape (1, 3, 640, 640)\n",
      "\n"
     ]
    },
    {
     "name": "stdout",
     "output_type": "stream",
     "text": [
      "Total Predictions: 485, Correct Predictions: 0\n",
      "Accuracy: 0.00%\n"
     ]
    },
    {
     "name": "stderr",
     "output_type": "stream",
     "text": [
      "0: 384x640 1 NO-Hardhat, 2 NO-Masks, 2 NO-Safety Vests, 1 Person, 578.9ms\n",
      "Speed: 1.0ms pre-process, 578.9ms inference, 1.0ms postprocess per image at shape (1, 3, 640, 640)\n",
      "\n"
     ]
    },
    {
     "name": "stdout",
     "output_type": "stream",
     "text": [
      "Total Predictions: 491, Correct Predictions: 0\n",
      "Accuracy: 0.00%\n"
     ]
    },
    {
     "name": "stderr",
     "output_type": "stream",
     "text": [
      "0: 384x640 1 NO-Hardhat, 2 NO-Masks, 2 NO-Safety Vests, 1 Person, 600.5ms\n",
      "Speed: 1.0ms pre-process, 600.5ms inference, 1.0ms postprocess per image at shape (1, 3, 640, 640)\n",
      "\n"
     ]
    },
    {
     "name": "stdout",
     "output_type": "stream",
     "text": [
      "Total Predictions: 497, Correct Predictions: 0\n",
      "Accuracy: 0.00%\n"
     ]
    },
    {
     "name": "stderr",
     "output_type": "stream",
     "text": [
      "0: 384x640 1 NO-Hardhat, 2 NO-Masks, 2 NO-Safety Vests, 1 Person, 571.8ms\n",
      "Speed: 1.0ms pre-process, 571.8ms inference, 1.0ms postprocess per image at shape (1, 3, 640, 640)\n",
      "\n"
     ]
    },
    {
     "name": "stdout",
     "output_type": "stream",
     "text": [
      "Total Predictions: 503, Correct Predictions: 0\n",
      "Accuracy: 0.00%\n"
     ]
    },
    {
     "name": "stderr",
     "output_type": "stream",
     "text": [
      "0: 384x640 1 NO-Hardhat, 1 NO-Mask, 2 NO-Safety Vests, 1 Person, 573.9ms\n",
      "Speed: 1.0ms pre-process, 573.9ms inference, 1.0ms postprocess per image at shape (1, 3, 640, 640)\n",
      "\n"
     ]
    },
    {
     "name": "stdout",
     "output_type": "stream",
     "text": [
      "Total Predictions: 508, Correct Predictions: 0\n",
      "Accuracy: 0.00%\n"
     ]
    },
    {
     "name": "stderr",
     "output_type": "stream",
     "text": [
      "0: 384x640 1 NO-Hardhat, 1 NO-Mask, 2 NO-Safety Vests, 1 Person, 616.2ms\n",
      "Speed: 2.0ms pre-process, 616.2ms inference, 1.0ms postprocess per image at shape (1, 3, 640, 640)\n",
      "\n"
     ]
    },
    {
     "name": "stdout",
     "output_type": "stream",
     "text": [
      "Total Predictions: 513, Correct Predictions: 0\n",
      "Accuracy: 0.00%\n"
     ]
    },
    {
     "name": "stderr",
     "output_type": "stream",
     "text": [
      "0: 384x640 1 NO-Hardhat, 1 NO-Mask, 2 NO-Safety Vests, 1 Person, 597.8ms\n",
      "Speed: 1.0ms pre-process, 597.8ms inference, 2.0ms postprocess per image at shape (1, 3, 640, 640)\n",
      "\n"
     ]
    },
    {
     "name": "stdout",
     "output_type": "stream",
     "text": [
      "Total Predictions: 518, Correct Predictions: 0\n",
      "Accuracy: 0.00%\n"
     ]
    },
    {
     "name": "stderr",
     "output_type": "stream",
     "text": [
      "0: 384x640 1 NO-Hardhat, 1 NO-Mask, 1 NO-Safety Vest, 1 Person, 577.3ms\n",
      "Speed: 0.0ms pre-process, 577.3ms inference, 2.0ms postprocess per image at shape (1, 3, 640, 640)\n",
      "\n"
     ]
    },
    {
     "name": "stdout",
     "output_type": "stream",
     "text": [
      "Total Predictions: 522, Correct Predictions: 0\n",
      "Accuracy: 0.00%\n"
     ]
    },
    {
     "name": "stderr",
     "output_type": "stream",
     "text": [
      "0: 384x640 1 NO-Hardhat, 1 NO-Mask, 1 NO-Safety Vest, 1 Person, 578.5ms\n",
      "Speed: 0.0ms pre-process, 578.5ms inference, 1.0ms postprocess per image at shape (1, 3, 640, 640)\n",
      "\n"
     ]
    },
    {
     "name": "stdout",
     "output_type": "stream",
     "text": [
      "Total Predictions: 526, Correct Predictions: 0\n",
      "Accuracy: 0.00%\n"
     ]
    },
    {
     "name": "stderr",
     "output_type": "stream",
     "text": [
      "0: 384x640 1 NO-Hardhat, 1 NO-Mask, 2 NO-Safety Vests, 1 Person, 587.0ms\n",
      "Speed: 0.0ms pre-process, 587.0ms inference, 1.0ms postprocess per image at shape (1, 3, 640, 640)\n",
      "\n"
     ]
    },
    {
     "name": "stdout",
     "output_type": "stream",
     "text": [
      "Total Predictions: 531, Correct Predictions: 0\n",
      "Accuracy: 0.00%\n"
     ]
    },
    {
     "name": "stderr",
     "output_type": "stream",
     "text": [
      "0: 384x640 1 NO-Hardhat, 1 NO-Mask, 2 NO-Safety Vests, 1 Person, 574.5ms\n",
      "Speed: 0.0ms pre-process, 574.5ms inference, 1.0ms postprocess per image at shape (1, 3, 640, 640)\n",
      "\n"
     ]
    },
    {
     "name": "stdout",
     "output_type": "stream",
     "text": [
      "Total Predictions: 536, Correct Predictions: 0\n",
      "Accuracy: 0.00%\n"
     ]
    },
    {
     "name": "stderr",
     "output_type": "stream",
     "text": [
      "0: 384x640 1 NO-Hardhat, 1 NO-Mask, 2 NO-Safety Vests, 1 Person, 572.8ms\n",
      "Speed: 0.0ms pre-process, 572.8ms inference, 1.0ms postprocess per image at shape (1, 3, 640, 640)\n",
      "\n"
     ]
    },
    {
     "name": "stdout",
     "output_type": "stream",
     "text": [
      "Total Predictions: 541, Correct Predictions: 0\n",
      "Accuracy: 0.00%\n"
     ]
    },
    {
     "name": "stderr",
     "output_type": "stream",
     "text": [
      "0: 384x640 1 NO-Hardhat, 2 NO-Masks, 1 NO-Safety Vest, 1 Person, 576.7ms\n",
      "Speed: 0.0ms pre-process, 576.7ms inference, 1.0ms postprocess per image at shape (1, 3, 640, 640)\n",
      "\n"
     ]
    }
   ],
   "source": [
    "from ultralytics import YOLO\n",
    "import cv2\n",
    "import cvzone\n",
    "import math\n",
    "\n",
    "# Function to calculate IoU (Intersection over Union) between two bounding boxes\n",
    "def calculate_iou(box1, box2):\n",
    "    x1, y1, w1, h1 = box1\n",
    "    x2, y2, w2, h2 = box2\n",
    "\n",
    "    intersection_area = max(0, min(x1 + w1, x2 + w2) - max(x1, x2)) * max(0, min(y1 + h1, y2 + h2) - max(y1, y2))\n",
    "    union_area = w1 * h1 + w2 * h2 - intersection_area\n",
    "\n",
    "    iou = intersection_area / union_area\n",
    "    return iou\n",
    "\n",
    "# Manually create ground truth labels for demonstration purposes\n",
    "ground_truth_labels = [\n",
    "    {'class': 'Hardhat', 'box': (50, 50, 100, 100)},\n",
    "    {'class': 'NO-Hardhat', 'box': (150, 150, 200, 200)},\n",
    "    # Add more ground truth labels as needed\n",
    "]\n",
    "\n",
    "# Print the dataset\n",
    "print(\"Ground Truth Dataset:\")\n",
    "for label in ground_truth_labels:\n",
    "    print(f\"Class: {label['class']}, Bounding Box: {label['box']}\")\n",
    "\n",
    "# Initialize the video capture\n",
    "cap = cv2.VideoCapture(0)\n",
    "cv2.namedWindow(\"Window\")\n",
    "cap.set(3, 1280)\n",
    "cap.set(4, 720)\n",
    "\n",
    "# Initialize the YOLO model\n",
    "model = YOLO(\"ppe.pt\")  # Replace with your actual model file\n",
    "\n",
    "classNames = ['Hardhat', 'Mask', 'NO-Hardhat', 'NO-Mask', 'NO-Safety Vest', 'Person', 'Safety Cone',\n",
    "              'Safety Vest', 'machinery', 'vehicle']\n",
    "myColor = (0, 0, 255)\n",
    "\n",
    "total_predictions = 0\n",
    "correct_predictions = 0\n",
    "\n",
    "while True:\n",
    "    success, img = cap.read()\n",
    "    results = model(img, stream=True)\n",
    "\n",
    "    for r in results:\n",
    "        boxes = r.boxes\n",
    "        for box in boxes:\n",
    "            cls = int(box.cls[0])\n",
    "            currentClass = classNames[cls]\n",
    "\n",
    "            # Find the corresponding ground truth label\n",
    "            for gt_label in ground_truth_labels:\n",
    "                if currentClass == gt_label['class'] and calculate_iou(box.xyxy[0], gt_label['box']) > 0.5:\n",
    "                    correct_predictions += 1\n",
    "\n",
    "            total_predictions += 1\n",
    "\n",
    "            x1, y1, x2, y2 = box.xyxy[0]\n",
    "            x1, y1, x2, y2 = int(x1), int(y1), int(x2), int(y2)\n",
    "            color = (0, 255, 0) if currentClass == 'Hardhat' else (0, 0, 255)\n",
    "            cv2.rectangle(img, (x1, y1), (x2, y2), color, 3)\n",
    "            w, h = x2 - x1, y2 - y1\n",
    "            cvzone.cornerRect(img, (x1, y1, w, h))\n",
    "            conf = math.ceil((box.conf[0] * 100)) / 100\n",
    "            cvzone.putTextRect(img, f'{currentClass} {conf}',\n",
    "                               (max(0, x1), max(35, y1)), scale=1, thickness=1, colorB=color,\n",
    "                               colorT=(255, 255, 255), colorR=color, offset=5)\n",
    "\n",
    "    cv2.imshow(\"Window\", img)\n",
    "    cv2.waitKey(1)\n",
    "\n",
    "    # Print some features\n",
    "    if total_predictions > 0:\n",
    "        accuracy = correct_predictions / total_predictions\n",
    "        print(f\"Total Predictions: {total_predictions}, Correct Predictions: {correct_predictions}\")\n",
    "        print(f\"Accuracy: {accuracy * 100:.2f}%\")\n",
    "\n",
    "# Remember to release the video capture and close the OpenCV windows when done\n",
    "cap.release()\n",
    "cv2.destroyAllWindows()\n"
   ]
  },
  {
   "cell_type": "code",
   "execution_count": null,
   "id": "b1c4aaef-aa72-4df5-9d44-d5590525a957",
   "metadata": {},
   "outputs": [
    {
     "name": "stdout",
     "output_type": "stream",
     "text": [
      "WARNING:tensorflow:From D:\\python39\\lib\\site-packages\\keras\\src\\losses.py:2976: The name tf.losses.sparse_softmax_cross_entropy is deprecated. Please use tf.compat.v1.losses.sparse_softmax_cross_entropy instead.\n",
      "\n"
     ]
    },
    {
     "name": "stderr",
     "output_type": "stream",
     "text": [
      "Ultralytics YOLOv8.0.26  Python-3.9.7 torch-2.1.2+cpu CPU\n",
      "Model summary (fused): 268 layers, 43614318 parameters, 0 gradients, 164.9 GFLOPs\n",
      "\n",
      "0: 384x640 1 Hardhat, 1 NO-Mask, 1 Person, 1 Safety Vest, 688.8ms\n",
      "Speed: 1.0ms pre-process, 688.8ms inference, 2.0ms postprocess per image at shape (1, 3, 640, 640)\n",
      "\n"
     ]
    },
    {
     "name": "stdout",
     "output_type": "stream",
     "text": [
      "Safety Vest\n",
      "Hardhat\n",
      "Person\n",
      "NO-Mask\n"
     ]
    },
    {
     "name": "stderr",
     "output_type": "stream",
     "text": [
      "0: 384x640 1 Hardhat, 1 NO-Mask, 1 Person, 1 Safety Vest, 597.7ms\n",
      "Speed: 1.0ms pre-process, 597.7ms inference, 1.0ms postprocess per image at shape (1, 3, 640, 640)\n",
      "\n"
     ]
    },
    {
     "name": "stdout",
     "output_type": "stream",
     "text": [
      "Safety Vest\n",
      "Hardhat\n",
      "Person\n",
      "NO-Mask\n"
     ]
    },
    {
     "name": "stderr",
     "output_type": "stream",
     "text": [
      "0: 384x640 1 Hardhat, 1 NO-Mask, 1 NO-Safety Vest, 1 Person, 1 Safety Vest, 572.6ms\n",
      "Speed: 0.0ms pre-process, 572.6ms inference, 1.0ms postprocess per image at shape (1, 3, 640, 640)\n",
      "\n"
     ]
    },
    {
     "name": "stdout",
     "output_type": "stream",
     "text": [
      "Person\n",
      "Hardhat\n",
      "Safety Vest\n",
      "NO-Mask\n",
      "NO-Safety Vest\n"
     ]
    },
    {
     "name": "stderr",
     "output_type": "stream",
     "text": [
      "0: 384x640 1 Hardhat, 1 NO-Mask, 1 NO-Safety Vest, 1 Person, 1 Safety Vest, 551.5ms\n",
      "Speed: 2.0ms pre-process, 551.5ms inference, 1.0ms postprocess per image at shape (1, 3, 640, 640)\n",
      "\n"
     ]
    },
    {
     "name": "stdout",
     "output_type": "stream",
     "text": [
      "Person\n",
      "Hardhat\n",
      "Safety Vest\n",
      "NO-Mask\n",
      "NO-Safety Vest\n"
     ]
    },
    {
     "name": "stderr",
     "output_type": "stream",
     "text": [
      "0: 384x640 1 Hardhat, 1 NO-Mask, 1 NO-Safety Vest, 1 Person, 1 Safety Vest, 591.5ms\n",
      "Speed: 1.0ms pre-process, 591.5ms inference, 1.0ms postprocess per image at shape (1, 3, 640, 640)\n",
      "\n"
     ]
    },
    {
     "name": "stdout",
     "output_type": "stream",
     "text": [
      "Hardhat\n",
      "Person\n",
      "Safety Vest\n",
      "NO-Mask\n",
      "NO-Safety Vest\n"
     ]
    },
    {
     "name": "stderr",
     "output_type": "stream",
     "text": [
      "0: 384x640 1 Hardhat, 1 NO-Mask, 1 NO-Safety Vest, 1 Person, 1 Safety Vest, 586.0ms\n",
      "Speed: 1.0ms pre-process, 586.0ms inference, 1.0ms postprocess per image at shape (1, 3, 640, 640)\n",
      "\n"
     ]
    },
    {
     "name": "stdout",
     "output_type": "stream",
     "text": [
      "Hardhat\n",
      "Safety Vest\n",
      "Person\n",
      "NO-Mask\n",
      "NO-Safety Vest\n"
     ]
    },
    {
     "name": "stderr",
     "output_type": "stream",
     "text": [
      "0: 384x640 1 Hardhat, 1 NO-Mask, 1 NO-Safety Vest, 1 Person, 1 Safety Vest, 607.5ms\n",
      "Speed: 0.0ms pre-process, 607.5ms inference, 2.0ms postprocess per image at shape (1, 3, 640, 640)\n",
      "\n"
     ]
    },
    {
     "name": "stdout",
     "output_type": "stream",
     "text": [
      "Hardhat\n",
      "Person\n",
      "Safety Vest\n",
      "NO-Mask\n",
      "NO-Safety Vest\n"
     ]
    },
    {
     "name": "stderr",
     "output_type": "stream",
     "text": [
      "0: 384x640 1 Hardhat, 1 NO-Mask, 1 NO-Safety Vest, 1 Person, 1 Safety Vest, 589.8ms\n",
      "Speed: 1.0ms pre-process, 589.8ms inference, 1.0ms postprocess per image at shape (1, 3, 640, 640)\n",
      "\n"
     ]
    },
    {
     "name": "stdout",
     "output_type": "stream",
     "text": [
      "Hardhat\n",
      "Person\n",
      "NO-Mask\n",
      "Safety Vest\n",
      "NO-Safety Vest\n"
     ]
    },
    {
     "name": "stderr",
     "output_type": "stream",
     "text": [
      "0: 384x640 1 Hardhat, 1 NO-Mask, 1 Person, 1 Safety Vest, 566.5ms\n",
      "Speed: 1.0ms pre-process, 566.5ms inference, 1.0ms postprocess per image at shape (1, 3, 640, 640)\n",
      "\n"
     ]
    },
    {
     "name": "stdout",
     "output_type": "stream",
     "text": [
      "Person\n",
      "Hardhat\n",
      "Safety Vest\n",
      "NO-Mask\n"
     ]
    },
    {
     "name": "stderr",
     "output_type": "stream",
     "text": [
      "0: 384x640 1 Hardhat, 1 NO-Mask, 1 Person, 1 Safety Vest, 583.7ms\n",
      "Speed: 0.0ms pre-process, 583.7ms inference, 2.0ms postprocess per image at shape (1, 3, 640, 640)\n",
      "\n"
     ]
    },
    {
     "name": "stdout",
     "output_type": "stream",
     "text": [
      "Safety Vest\n",
      "Person\n",
      "Hardhat\n",
      "NO-Mask\n"
     ]
    },
    {
     "name": "stderr",
     "output_type": "stream",
     "text": [
      "0: 384x640 1 Hardhat, 1 NO-Mask, 1 Person, 1 Safety Vest, 584.5ms\n",
      "Speed: 0.0ms pre-process, 584.5ms inference, 1.0ms postprocess per image at shape (1, 3, 640, 640)\n",
      "\n"
     ]
    },
    {
     "name": "stdout",
     "output_type": "stream",
     "text": [
      "Safety Vest\n",
      "Person\n",
      "Hardhat\n",
      "NO-Mask\n"
     ]
    },
    {
     "name": "stderr",
     "output_type": "stream",
     "text": [
      "0: 384x640 1 Hardhat, 1 NO-Mask, 1 Person, 1 Safety Vest, 537.5ms\n",
      "Speed: 1.0ms pre-process, 537.5ms inference, 1.0ms postprocess per image at shape (1, 3, 640, 640)\n",
      "\n"
     ]
    },
    {
     "name": "stdout",
     "output_type": "stream",
     "text": [
      "Safety Vest\n",
      "Person\n",
      "Hardhat\n",
      "NO-Mask\n"
     ]
    },
    {
     "name": "stderr",
     "output_type": "stream",
     "text": [
      "0: 384x640 1 Hardhat, 1 NO-Mask, 1 Person, 1 Safety Vest, 576.2ms\n",
      "Speed: 1.0ms pre-process, 576.2ms inference, 2.0ms postprocess per image at shape (1, 3, 640, 640)\n",
      "\n"
     ]
    },
    {
     "name": "stdout",
     "output_type": "stream",
     "text": [
      "Safety Vest\n",
      "Hardhat\n",
      "Person\n",
      "NO-Mask\n"
     ]
    },
    {
     "name": "stderr",
     "output_type": "stream",
     "text": [
      "0: 384x640 2 Hardhats, 1 NO-Mask, 1 Person, 1 Safety Vest, 578.4ms\n",
      "Speed: 1.0ms pre-process, 578.4ms inference, 1.0ms postprocess per image at shape (1, 3, 640, 640)\n",
      "\n"
     ]
    },
    {
     "name": "stdout",
     "output_type": "stream",
     "text": [
      "Safety Vest\n",
      "Hardhat\n",
      "Person\n",
      "NO-Mask\n",
      "Hardhat\n"
     ]
    },
    {
     "name": "stderr",
     "output_type": "stream",
     "text": [
      "0: 384x640 2 Hardhats, 1 NO-Mask, 1 Person, 1 Safety Vest, 575.4ms\n",
      "Speed: 1.0ms pre-process, 575.4ms inference, 1.0ms postprocess per image at shape (1, 3, 640, 640)\n",
      "\n"
     ]
    },
    {
     "name": "stdout",
     "output_type": "stream",
     "text": [
      "Safety Vest\n",
      "Hardhat\n",
      "Person\n",
      "NO-Mask\n",
      "Hardhat\n"
     ]
    },
    {
     "name": "stderr",
     "output_type": "stream",
     "text": [
      "0: 384x640 2 Hardhats, 1 NO-Mask, 1 Person, 1 Safety Vest, 574.3ms\n",
      "Speed: 0.0ms pre-process, 574.3ms inference, 1.0ms postprocess per image at shape (1, 3, 640, 640)\n",
      "\n"
     ]
    },
    {
     "name": "stdout",
     "output_type": "stream",
     "text": [
      "Safety Vest\n",
      "Hardhat\n",
      "Person\n",
      "NO-Mask\n",
      "Hardhat\n"
     ]
    },
    {
     "name": "stderr",
     "output_type": "stream",
     "text": [
      "0: 384x640 2 Hardhats, 1 NO-Mask, 1 Person, 1 Safety Vest, 572.9ms\n",
      "Speed: 0.0ms pre-process, 572.9ms inference, 1.0ms postprocess per image at shape (1, 3, 640, 640)\n",
      "\n"
     ]
    },
    {
     "name": "stdout",
     "output_type": "stream",
     "text": [
      "Safety Vest\n",
      "Hardhat\n",
      "Person\n",
      "NO-Mask\n",
      "Hardhat\n"
     ]
    },
    {
     "name": "stderr",
     "output_type": "stream",
     "text": [
      "0: 384x640 2 Hardhats, 1 NO-Mask, 1 Person, 1 Safety Vest, 572.8ms\n",
      "Speed: 0.0ms pre-process, 572.8ms inference, 2.0ms postprocess per image at shape (1, 3, 640, 640)\n",
      "\n"
     ]
    },
    {
     "name": "stdout",
     "output_type": "stream",
     "text": [
      "Safety Vest\n",
      "Hardhat\n",
      "Person\n",
      "NO-Mask\n",
      "Hardhat\n"
     ]
    },
    {
     "name": "stderr",
     "output_type": "stream",
     "text": [
      "0: 384x640 2 Hardhats, 1 NO-Mask, 1 Person, 1 Safety Vest, 592.2ms\n",
      "Speed: 1.0ms pre-process, 592.2ms inference, 1.0ms postprocess per image at shape (1, 3, 640, 640)\n",
      "\n"
     ]
    },
    {
     "name": "stdout",
     "output_type": "stream",
     "text": [
      "Safety Vest\n",
      "Hardhat\n",
      "Person\n",
      "NO-Mask\n",
      "Hardhat\n"
     ]
    },
    {
     "name": "stderr",
     "output_type": "stream",
     "text": [
      "0: 384x640 2 Hardhats, 1 NO-Mask, 1 Person, 1 Safety Vest, 576.9ms\n",
      "Speed: 1.0ms pre-process, 576.9ms inference, 1.0ms postprocess per image at shape (1, 3, 640, 640)\n",
      "\n"
     ]
    },
    {
     "name": "stdout",
     "output_type": "stream",
     "text": [
      "Safety Vest\n",
      "Person\n",
      "Hardhat\n",
      "NO-Mask\n",
      "Hardhat\n"
     ]
    },
    {
     "name": "stderr",
     "output_type": "stream",
     "text": [
      "0: 384x640 2 Hardhats, 1 NO-Mask, 1 Person, 1 Safety Vest, 574.7ms\n",
      "Speed: 0.0ms pre-process, 574.7ms inference, 1.0ms postprocess per image at shape (1, 3, 640, 640)\n",
      "\n"
     ]
    },
    {
     "name": "stdout",
     "output_type": "stream",
     "text": [
      "Safety Vest\n",
      "Person\n",
      "Hardhat\n",
      "NO-Mask\n",
      "Hardhat\n"
     ]
    },
    {
     "name": "stderr",
     "output_type": "stream",
     "text": [
      "0: 384x640 2 Hardhats, 1 NO-Mask, 1 Person, 1 Safety Vest, 588.4ms\n",
      "Speed: 0.0ms pre-process, 588.4ms inference, 1.0ms postprocess per image at shape (1, 3, 640, 640)\n",
      "\n"
     ]
    },
    {
     "name": "stdout",
     "output_type": "stream",
     "text": [
      "Safety Vest\n",
      "Person\n",
      "Hardhat\n",
      "NO-Mask\n",
      "Hardhat\n"
     ]
    },
    {
     "name": "stderr",
     "output_type": "stream",
     "text": [
      "0: 384x640 2 Hardhats, 1 NO-Mask, 1 Person, 1 Safety Vest, 642.2ms\n",
      "Speed: 1.0ms pre-process, 642.2ms inference, 1.0ms postprocess per image at shape (1, 3, 640, 640)\n",
      "\n"
     ]
    },
    {
     "name": "stdout",
     "output_type": "stream",
     "text": [
      "Person\n",
      "Hardhat\n",
      "Safety Vest\n",
      "NO-Mask\n",
      "Hardhat\n"
     ]
    },
    {
     "name": "stderr",
     "output_type": "stream",
     "text": [
      "0: 384x640 1 Hardhat, 1 NO-Mask, 1 Person, 1 Safety Vest, 609.9ms\n",
      "Speed: 2.0ms pre-process, 609.9ms inference, 1.0ms postprocess per image at shape (1, 3, 640, 640)\n",
      "\n"
     ]
    },
    {
     "name": "stdout",
     "output_type": "stream",
     "text": [
      "Person\n",
      "Hardhat\n",
      "Safety Vest\n",
      "NO-Mask\n"
     ]
    },
    {
     "name": "stderr",
     "output_type": "stream",
     "text": [
      "0: 384x640 2 Hardhats, 1 NO-Mask, 1 Person, 1 Safety Vest, 588.8ms\n",
      "Speed: 0.0ms pre-process, 588.8ms inference, 1.0ms postprocess per image at shape (1, 3, 640, 640)\n",
      "\n"
     ]
    },
    {
     "name": "stdout",
     "output_type": "stream",
     "text": [
      "Person\n",
      "Safety Vest\n",
      "Hardhat\n",
      "NO-Mask\n",
      "Hardhat\n"
     ]
    },
    {
     "name": "stderr",
     "output_type": "stream",
     "text": [
      "0: 384x640 1 Hardhat, 1 NO-Mask, 1 Person, 1 Safety Vest, 573.7ms\n",
      "Speed: 0.0ms pre-process, 573.7ms inference, 2.0ms postprocess per image at shape (1, 3, 640, 640)\n",
      "\n"
     ]
    },
    {
     "name": "stdout",
     "output_type": "stream",
     "text": [
      "Safety Vest\n",
      "Person\n",
      "Hardhat\n",
      "NO-Mask\n"
     ]
    },
    {
     "name": "stderr",
     "output_type": "stream",
     "text": [
      "0: 384x640 1 Hardhat, 1 NO-Mask, 1 Person, 1 Safety Vest, 569.4ms\n",
      "Speed: 1.0ms pre-process, 569.4ms inference, 1.0ms postprocess per image at shape (1, 3, 640, 640)\n",
      "\n"
     ]
    },
    {
     "name": "stdout",
     "output_type": "stream",
     "text": [
      "Person\n",
      "Safety Vest\n",
      "Hardhat\n",
      "NO-Mask\n"
     ]
    },
    {
     "name": "stderr",
     "output_type": "stream",
     "text": [
      "0: 384x640 1 Hardhat, 1 NO-Mask, 1 Person, 1 Safety Vest, 608.9ms\n",
      "Speed: 1.0ms pre-process, 608.9ms inference, 2.0ms postprocess per image at shape (1, 3, 640, 640)\n",
      "\n"
     ]
    },
    {
     "name": "stdout",
     "output_type": "stream",
     "text": [
      "Person\n",
      "Safety Vest\n",
      "Hardhat\n",
      "NO-Mask\n"
     ]
    },
    {
     "name": "stderr",
     "output_type": "stream",
     "text": [
      "0: 384x640 1 Hardhat, 1 NO-Mask, 1 Person, 1 Safety Vest, 597.0ms\n",
      "Speed: 1.0ms pre-process, 597.0ms inference, 1.0ms postprocess per image at shape (1, 3, 640, 640)\n",
      "\n"
     ]
    },
    {
     "name": "stdout",
     "output_type": "stream",
     "text": [
      "Safety Vest\n",
      "Person\n",
      "Hardhat\n",
      "NO-Mask\n"
     ]
    },
    {
     "name": "stderr",
     "output_type": "stream",
     "text": [
      "0: 384x640 1 Hardhat, 1 NO-Mask, 1 Person, 1 Safety Vest, 587.3ms\n",
      "Speed: 1.1ms pre-process, 587.3ms inference, 1.0ms postprocess per image at shape (1, 3, 640, 640)\n",
      "\n"
     ]
    },
    {
     "name": "stdout",
     "output_type": "stream",
     "text": [
      "Safety Vest\n",
      "Person\n",
      "Hardhat\n",
      "NO-Mask\n"
     ]
    },
    {
     "name": "stderr",
     "output_type": "stream",
     "text": [
      "0: 384x640 1 Hardhat, 1 NO-Mask, 1 Person, 1 Safety Vest, 601.6ms\n",
      "Speed: 1.0ms pre-process, 601.6ms inference, 1.0ms postprocess per image at shape (1, 3, 640, 640)\n",
      "\n"
     ]
    },
    {
     "name": "stdout",
     "output_type": "stream",
     "text": [
      "Person\n",
      "Safety Vest\n",
      "Hardhat\n",
      "NO-Mask\n"
     ]
    },
    {
     "name": "stderr",
     "output_type": "stream",
     "text": [
      "0: 384x640 1 Hardhat, 1 NO-Mask, 1 Person, 1 Safety Vest, 586.7ms\n",
      "Speed: 0.0ms pre-process, 586.7ms inference, 1.0ms postprocess per image at shape (1, 3, 640, 640)\n",
      "\n"
     ]
    },
    {
     "name": "stdout",
     "output_type": "stream",
     "text": [
      "Safety Vest\n",
      "Person\n",
      "Hardhat\n",
      "NO-Mask\n"
     ]
    },
    {
     "name": "stderr",
     "output_type": "stream",
     "text": [
      "0: 384x640 1 Hardhat, 1 NO-Mask, 1 Person, 1 Safety Vest, 624.1ms\n",
      "Speed: 1.0ms pre-process, 624.1ms inference, 1.0ms postprocess per image at shape (1, 3, 640, 640)\n",
      "\n"
     ]
    },
    {
     "name": "stdout",
     "output_type": "stream",
     "text": [
      "Safety Vest\n",
      "Person\n",
      "Hardhat\n",
      "NO-Mask\n"
     ]
    },
    {
     "name": "stderr",
     "output_type": "stream",
     "text": [
      "0: 384x640 1 Hardhat, 1 NO-Mask, 1 Person, 1 Safety Vest, 588.7ms\n",
      "Speed: 0.0ms pre-process, 588.7ms inference, 1.0ms postprocess per image at shape (1, 3, 640, 640)\n",
      "\n"
     ]
    },
    {
     "name": "stdout",
     "output_type": "stream",
     "text": [
      "Safety Vest\n",
      "Person\n",
      "Hardhat\n",
      "NO-Mask\n"
     ]
    },
    {
     "name": "stderr",
     "output_type": "stream",
     "text": [
      "0: 384x640 1 Hardhat, 1 NO-Mask, 1 Person, 1 Safety Vest, 673.4ms\n",
      "Speed: 1.0ms pre-process, 673.4ms inference, 2.0ms postprocess per image at shape (1, 3, 640, 640)\n",
      "\n"
     ]
    },
    {
     "name": "stdout",
     "output_type": "stream",
     "text": [
      "Safety Vest\n",
      "Person\n",
      "Hardhat\n",
      "NO-Mask\n"
     ]
    },
    {
     "name": "stderr",
     "output_type": "stream",
     "text": [
      "0: 384x640 1 Hardhat, 1 NO-Mask, 1 Person, 1 Safety Vest, 586.7ms\n",
      "Speed: 1.0ms pre-process, 586.7ms inference, 1.0ms postprocess per image at shape (1, 3, 640, 640)\n",
      "\n"
     ]
    },
    {
     "name": "stdout",
     "output_type": "stream",
     "text": [
      "Safety Vest\n",
      "Person\n",
      "Hardhat\n",
      "NO-Mask\n"
     ]
    },
    {
     "name": "stderr",
     "output_type": "stream",
     "text": [
      "0: 384x640 1 Hardhat, 1 NO-Mask, 1 Person, 1 Safety Vest, 637.9ms\n",
      "Speed: 0.0ms pre-process, 637.9ms inference, 1.0ms postprocess per image at shape (1, 3, 640, 640)\n",
      "\n"
     ]
    },
    {
     "name": "stdout",
     "output_type": "stream",
     "text": [
      "Safety Vest\n",
      "Person\n",
      "Hardhat\n",
      "NO-Mask\n"
     ]
    },
    {
     "name": "stderr",
     "output_type": "stream",
     "text": [
      "0: 384x640 1 Hardhat, 1 NO-Mask, 1 Person, 1 Safety Vest, 577.3ms\n",
      "Speed: 1.0ms pre-process, 577.3ms inference, 1.0ms postprocess per image at shape (1, 3, 640, 640)\n",
      "\n"
     ]
    },
    {
     "name": "stdout",
     "output_type": "stream",
     "text": [
      "Safety Vest\n",
      "Person\n",
      "Hardhat\n",
      "NO-Mask\n"
     ]
    },
    {
     "name": "stderr",
     "output_type": "stream",
     "text": [
      "0: 384x640 1 Hardhat, 1 NO-Mask, 1 Person, 1 Safety Vest, 595.6ms\n",
      "Speed: 1.0ms pre-process, 595.6ms inference, 1.0ms postprocess per image at shape (1, 3, 640, 640)\n",
      "\n"
     ]
    },
    {
     "name": "stdout",
     "output_type": "stream",
     "text": [
      "Person\n",
      "Safety Vest\n",
      "Hardhat\n",
      "NO-Mask\n"
     ]
    },
    {
     "name": "stderr",
     "output_type": "stream",
     "text": [
      "0: 384x640 1 Hardhat, 1 NO-Mask, 1 Person, 1 Safety Vest, 589.2ms\n",
      "Speed: 0.0ms pre-process, 589.2ms inference, 1.0ms postprocess per image at shape (1, 3, 640, 640)\n",
      "\n"
     ]
    },
    {
     "name": "stdout",
     "output_type": "stream",
     "text": [
      "Safety Vest\n",
      "Person\n",
      "Hardhat\n",
      "NO-Mask\n"
     ]
    },
    {
     "name": "stderr",
     "output_type": "stream",
     "text": [
      "0: 384x640 1 Hardhat, 1 NO-Mask, 1 Person, 1 Safety Vest, 605.2ms\n",
      "Speed: 1.0ms pre-process, 605.2ms inference, 2.0ms postprocess per image at shape (1, 3, 640, 640)\n",
      "\n"
     ]
    },
    {
     "name": "stdout",
     "output_type": "stream",
     "text": [
      "Safety Vest\n",
      "Person\n",
      "Hardhat\n",
      "NO-Mask\n"
     ]
    },
    {
     "name": "stderr",
     "output_type": "stream",
     "text": [
      "0: 384x640 1 Hardhat, 1 NO-Mask, 1 Person, 1 Safety Vest, 587.9ms\n",
      "Speed: 1.1ms pre-process, 587.9ms inference, 1.0ms postprocess per image at shape (1, 3, 640, 640)\n",
      "\n"
     ]
    },
    {
     "name": "stdout",
     "output_type": "stream",
     "text": [
      "Safety Vest\n",
      "Person\n",
      "Hardhat\n",
      "NO-Mask\n"
     ]
    },
    {
     "name": "stderr",
     "output_type": "stream",
     "text": [
      "0: 384x640 1 Hardhat, 1 NO-Mask, 1 Person, 1 Safety Vest, 591.6ms\n",
      "Speed: 0.0ms pre-process, 591.6ms inference, 2.0ms postprocess per image at shape (1, 3, 640, 640)\n",
      "\n"
     ]
    },
    {
     "name": "stdout",
     "output_type": "stream",
     "text": [
      "Safety Vest\n",
      "Person\n",
      "Hardhat\n",
      "NO-Mask\n"
     ]
    },
    {
     "name": "stderr",
     "output_type": "stream",
     "text": [
      "0: 384x640 1 Hardhat, 1 NO-Mask, 1 Person, 1 Safety Vest, 593.3ms\n",
      "Speed: 1.0ms pre-process, 593.3ms inference, 1.0ms postprocess per image at shape (1, 3, 640, 640)\n",
      "\n"
     ]
    },
    {
     "name": "stdout",
     "output_type": "stream",
     "text": [
      "Safety Vest\n",
      "Person\n",
      "Hardhat\n",
      "NO-Mask\n"
     ]
    },
    {
     "name": "stderr",
     "output_type": "stream",
     "text": [
      "0: 384x640 1 Hardhat, 1 NO-Mask, 1 Person, 1 Safety Vest, 591.3ms\n",
      "Speed: 1.0ms pre-process, 591.3ms inference, 1.0ms postprocess per image at shape (1, 3, 640, 640)\n",
      "\n"
     ]
    },
    {
     "name": "stdout",
     "output_type": "stream",
     "text": [
      "Safety Vest\n",
      "Hardhat\n",
      "Person\n",
      "NO-Mask\n"
     ]
    },
    {
     "name": "stderr",
     "output_type": "stream",
     "text": [
      "0: 384x640 1 Hardhat, 1 NO-Mask, 1 Person, 1 Safety Vest, 591.4ms\n",
      "Speed: 0.0ms pre-process, 591.4ms inference, 1.0ms postprocess per image at shape (1, 3, 640, 640)\n",
      "\n"
     ]
    },
    {
     "name": "stdout",
     "output_type": "stream",
     "text": [
      "Safety Vest\n",
      "Hardhat\n",
      "Person\n",
      "NO-Mask\n"
     ]
    },
    {
     "name": "stderr",
     "output_type": "stream",
     "text": [
      "0: 384x640 1 Hardhat, 1 NO-Mask, 1 Person, 1 Safety Vest, 582.5ms\n",
      "Speed: 1.0ms pre-process, 582.5ms inference, 1.0ms postprocess per image at shape (1, 3, 640, 640)\n",
      "\n"
     ]
    },
    {
     "name": "stdout",
     "output_type": "stream",
     "text": [
      "Safety Vest\n",
      "Hardhat\n",
      "Person\n",
      "NO-Mask\n"
     ]
    },
    {
     "name": "stderr",
     "output_type": "stream",
     "text": [
      "0: 384x640 1 Hardhat, 1 NO-Mask, 1 Person, 1 Safety Vest, 578.4ms\n",
      "Speed: 0.0ms pre-process, 578.4ms inference, 1.0ms postprocess per image at shape (1, 3, 640, 640)\n",
      "\n"
     ]
    },
    {
     "name": "stdout",
     "output_type": "stream",
     "text": [
      "Safety Vest\n",
      "Hardhat\n",
      "Person\n",
      "NO-Mask\n"
     ]
    }
   ],
   "source": [
    "    from ultralytics import YOLO\n",
    "    import cv2\n",
    "    import cvzone\n",
    "    import math\n",
    "\n",
    "    # cap = cv2.VideoCapture(1)  # For Webcam --with code\n",
    "    #cap = cv2.VideoCapture(0)  # inbuilt cam\n",
    "    #cv2.namedWindow(\"Window\")  # inbuilt cam\n",
    "    #cap.set(3, 1280)  # cam\n",
    "    #cap.set(4, 720)  # cam\n",
    "    # cap = cv2.VideoCapture(\"../Videos/ppe-3.mp4\")  # For Video\n",
    "    cap = cv2.VideoCapture(\"D:\\PROJECT 1\\ppe-1.mp4\")\n",
    "    model = YOLO(\"ppe.pt\")  # train model\n",
    "\n",
    "    classNames = ['Hardhat', 'Mask', 'NO-Hardhat', 'NO-Mask', 'NO-Safety Vest', 'Person', 'Safety Cone',\n",
    "                  'Safety Vest', 'machinery', 'vehicle']\n",
    "    myColor = (0, 0, 255)\n",
    "    while True:\n",
    "        success, img = cap.read()\n",
    "        results = model(img, stream=True)\n",
    "        for r in results:\n",
    "            boxes = r.boxes\n",
    "            for box in boxes:\n",
    "                # Bounding Box\n",
    "                x1, y1, x2, y2 = box.xyxy[0]\n",
    "                x1, y1, x2, y2 = int(x1), int(y1), int(x2), int(y2)\n",
    "                cv2.rectangle(img, (x1, y1), (x2, y2), (255, 0, 255), 3)\n",
    "                w, h = x2 - x1, y2 - y1\n",
    "                cvzone.cornerRect(img, (x1, y1, w, h))\n",
    "\n",
    "                # Confidence\n",
    "                conf = math.ceil((box.conf[0] * 100)) / 100\n",
    "                # Class Name\n",
    "                cls = int(box.cls[0])\n",
    "                currentClass = classNames[cls]\n",
    "                print(currentClass)\n",
    "                if conf > 0.5:\n",
    "                    if currentClass == 'NO-Hardhat' or currentClass == 'NO-Safety Vest' or currentClass == \"NO-Mask\":\n",
    "                        myColor = (0, 0, 255)\n",
    "                    elif currentClass == 'Hardhat' or currentClass == 'Safety Vest' or currentClass == \"Mask\":\n",
    "                        myColor = (0, 255, 0)\n",
    "                    else:\n",
    "                        myColor = (255, 0, 0)\n",
    "\n",
    "                    cvzone.putTextRect(img, f'{classNames[cls]} {conf}',\n",
    "                                       (max(0, x1), max(35, y1)), scale=1, thickness=1, colorB=myColor,\n",
    "                                       colorT=(255, 255, 255), colorR=myColor, offset=5)\n",
    "                    cv2.rectangle(img, (x1, y1), (x2, y2), myColor, 3)\n",
    "\n",
    "        # cv2.imshow(\"Image\", img) #webcam\n",
    "        cv2.imshow(\"Window\", img)  # inbuilt camera&videos\n",
    "        cv2.waitKey(10)"
   ]
  },
  {
   "cell_type": "code",
   "execution_count": null,
   "id": "c88519b7-5c28-42f9-81bc-e2ba93b67066",
   "metadata": {},
   "outputs": [],
   "source": []
  }
 ],
 "metadata": {
  "kernelspec": {
   "display_name": "Python 3 (ipykernel)",
   "language": "python",
   "name": "python3"
  },
  "language_info": {
   "codemirror_mode": {
    "name": "ipython",
    "version": 3
   },
   "file_extension": ".py",
   "mimetype": "text/x-python",
   "name": "python",
   "nbconvert_exporter": "python",
   "pygments_lexer": "ipython3",
   "version": "3.9.7"
  }
 },
 "nbformat": 4,
 "nbformat_minor": 5
}
